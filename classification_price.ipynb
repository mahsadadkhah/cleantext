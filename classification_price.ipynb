{
  "nbformat": 4,
  "nbformat_minor": 0,
  "metadata": {
    "colab": {
      "provenance": [],
      "collapsed_sections": [
        "fQFlVvECeZsD",
        "OsNaqujTeiGx",
        "-NBcJXJkfgUI",
        "xFbRtOqLfnh6",
        "DY5JMY1Yftsr",
        "mbpEEA0g1-Be",
        "B_LljZFVAFPA",
        "SMlnazVEN50z",
        "bzrFLSkIgNmL",
        "ARmfVUbmf8ug",
        "9jcu4Kzi76tD",
        "9csGqnCvtFAS",
        "lpJ3wtyctQJH",
        "BrHQCv7q7LF_",
        "BLT4w0ZfAhlJ",
        "uC2GhaXfA8vC",
        "zxUus1LRNnRj",
        "oBW2SLfEEkCp"
      ],
      "include_colab_link": true
    },
    "kernelspec": {
      "name": "python3",
      "display_name": "Python 3"
    },
    "language_info": {
      "name": "python"
    }
  },
  "cells": [
    {
      "cell_type": "markdown",
      "metadata": {
        "id": "view-in-github",
        "colab_type": "text"
      },
      "source": [
        "<a href=\"https://colab.research.google.com/github/mahsadadkhah/price-classification/blob/master/classification_price.ipynb\" target=\"_parent\"><img src=\"https://colab.research.google.com/assets/colab-badge.svg\" alt=\"Open In Colab\"/></a>"
      ]
    },
    {
      "cell_type": "markdown",
      "source": [
        "# **Imports **"
      ],
      "metadata": {
        "id": "fQFlVvECeZsD"
      }
    },
    {
      "cell_type": "code",
      "source": [
        "!pip install torchmetrics"
      ],
      "metadata": {
        "colab": {
          "base_uri": "https://localhost:8080/"
        },
        "id": "dQ9OIgAs4iWa",
        "outputId": "15f73098-26bd-4db4-fd41-ba7f387a8841"
      },
      "execution_count": null,
      "outputs": [
        {
          "output_type": "stream",
          "name": "stdout",
          "text": [
            "Collecting torchmetrics\n",
            "  Downloading torchmetrics-1.2.0-py3-none-any.whl (805 kB)\n",
            "\u001b[2K     \u001b[90m━━━━━━━━━━━━━━━━━━━━━━━━━━━━━━━━━━━━━━━━\u001b[0m \u001b[32m805.2/805.2 kB\u001b[0m \u001b[31m7.0 MB/s\u001b[0m eta \u001b[36m0:00:00\u001b[0m\n",
            "\u001b[?25hRequirement already satisfied: numpy>1.20.0 in /usr/local/lib/python3.10/dist-packages (from torchmetrics) (1.23.5)\n",
            "Requirement already satisfied: torch>=1.8.1 in /usr/local/lib/python3.10/dist-packages (from torchmetrics) (2.0.1+cu118)\n",
            "Collecting lightning-utilities>=0.8.0 (from torchmetrics)\n",
            "  Downloading lightning_utilities-0.9.0-py3-none-any.whl (23 kB)\n",
            "Requirement already satisfied: packaging>=17.1 in /usr/local/lib/python3.10/dist-packages (from lightning-utilities>=0.8.0->torchmetrics) (23.2)\n",
            "Requirement already satisfied: typing-extensions in /usr/local/lib/python3.10/dist-packages (from lightning-utilities>=0.8.0->torchmetrics) (4.5.0)\n",
            "Requirement already satisfied: filelock in /usr/local/lib/python3.10/dist-packages (from torch>=1.8.1->torchmetrics) (3.12.4)\n",
            "Requirement already satisfied: sympy in /usr/local/lib/python3.10/dist-packages (from torch>=1.8.1->torchmetrics) (1.12)\n",
            "Requirement already satisfied: networkx in /usr/local/lib/python3.10/dist-packages (from torch>=1.8.1->torchmetrics) (3.1)\n",
            "Requirement already satisfied: jinja2 in /usr/local/lib/python3.10/dist-packages (from torch>=1.8.1->torchmetrics) (3.1.2)\n",
            "Requirement already satisfied: triton==2.0.0 in /usr/local/lib/python3.10/dist-packages (from torch>=1.8.1->torchmetrics) (2.0.0)\n",
            "Requirement already satisfied: cmake in /usr/local/lib/python3.10/dist-packages (from triton==2.0.0->torch>=1.8.1->torchmetrics) (3.27.6)\n",
            "Requirement already satisfied: lit in /usr/local/lib/python3.10/dist-packages (from triton==2.0.0->torch>=1.8.1->torchmetrics) (17.0.2)\n",
            "Requirement already satisfied: MarkupSafe>=2.0 in /usr/local/lib/python3.10/dist-packages (from jinja2->torch>=1.8.1->torchmetrics) (2.1.3)\n",
            "Requirement already satisfied: mpmath>=0.19 in /usr/local/lib/python3.10/dist-packages (from sympy->torch>=1.8.1->torchmetrics) (1.3.0)\n",
            "Installing collected packages: lightning-utilities, torchmetrics\n",
            "Successfully installed lightning-utilities-0.9.0 torchmetrics-1.2.0\n"
          ]
        }
      ]
    },
    {
      "cell_type": "code",
      "execution_count": null,
      "metadata": {
        "id": "Jnc2LOc9eRjD"
      },
      "outputs": [],
      "source": [
        "import torch\n",
        "import torch.nn as nn\n",
        "import torch.optim as optim\n",
        "from torch.utils.data import TensorDataset, DataLoader, random_split\n",
        "\n",
        "import pandas as pd\n",
        "import matplotlib.pyplot as plt\n",
        "from sklearn.model_selection import train_test_split\n",
        "from torchmetrics import Accuracy\n",
        "from tqdm import tqdm"
      ]
    },
    {
      "cell_type": "markdown",
      "source": [
        "# **Dataset 🗂️**"
      ],
      "metadata": {
        "id": "OsNaqujTeiGx"
      }
    },
    {
      "cell_type": "markdown",
      "source": [
        "## Read Dataset"
      ],
      "metadata": {
        "id": "3kNFvE61Q7sC"
      }
    },
    {
      "cell_type": "code",
      "source": [
        "from google.colab import drive\n",
        "drive.mount('/content/drive')"
      ],
      "metadata": {
        "id": "_d4yHWpCAR-3",
        "outputId": "16eb9486-b1df-4c34-ff19-9b108cb996bb",
        "colab": {
          "base_uri": "https://localhost:8080/"
        }
      },
      "execution_count": null,
      "outputs": [
        {
          "output_type": "stream",
          "name": "stdout",
          "text": [
            "Mounted at /content/drive\n"
          ]
        }
      ]
    },
    {
      "cell_type": "code",
      "source": [
        "!cp /content/drive/MyDrive/mobile_price.zip /content/"
      ],
      "metadata": {
        "id": "b6VI5hKSTU_L"
      },
      "execution_count": null,
      "outputs": []
    },
    {
      "cell_type": "code",
      "source": [
        "!unzip /content/mobile_price.zip"
      ],
      "metadata": {
        "id": "rhv0ZRi_ec_K",
        "colab": {
          "base_uri": "https://localhost:8080/"
        },
        "outputId": "ee94320d-849c-4e14-ce6d-c8419396d9bc"
      },
      "execution_count": null,
      "outputs": [
        {
          "output_type": "stream",
          "name": "stdout",
          "text": [
            "Archive:  /content/mobile_price.zip\n",
            "  inflating: test.csv                \n",
            "  inflating: train.csv               \n"
          ]
        }
      ]
    },
    {
      "cell_type": "code",
      "source": [
        "df = pd.read_csv('/content/train.csv')\n",
        "X = df.drop('price_range', axis=1)\n",
        "y = df['price_range']"
      ],
      "metadata": {
        "id": "bJduGtSOezX0"
      },
      "execution_count": null,
      "outputs": []
    },
    {
      "cell_type": "code",
      "source": [
        "df"
      ],
      "metadata": {
        "id": "gcl83XOIyuJl",
        "outputId": "43cb8454-5d67-4220-e32f-9d613bd13b10",
        "colab": {
          "base_uri": "https://localhost:8080/",
          "height": 443
        }
      },
      "execution_count": null,
      "outputs": [
        {
          "output_type": "execute_result",
          "data": {
            "text/plain": [
              "      battery_power  blue  clock_speed  dual_sim  fc  four_g  int_memory  \\\n",
              "0               842     0          2.2         0   1       0           7   \n",
              "1              1021     1          0.5         1   0       1          53   \n",
              "2               563     1          0.5         1   2       1          41   \n",
              "3               615     1          2.5         0   0       0          10   \n",
              "4              1821     1          1.2         0  13       1          44   \n",
              "...             ...   ...          ...       ...  ..     ...         ...   \n",
              "1995            794     1          0.5         1   0       1           2   \n",
              "1996           1965     1          2.6         1   0       0          39   \n",
              "1997           1911     0          0.9         1   1       1          36   \n",
              "1998           1512     0          0.9         0   4       1          46   \n",
              "1999            510     1          2.0         1   5       1          45   \n",
              "\n",
              "      m_dep  mobile_wt  n_cores  ...  px_height  px_width   ram  sc_h  sc_w  \\\n",
              "0       0.6        188        2  ...         20       756  2549     9     7   \n",
              "1       0.7        136        3  ...        905      1988  2631    17     3   \n",
              "2       0.9        145        5  ...       1263      1716  2603    11     2   \n",
              "3       0.8        131        6  ...       1216      1786  2769    16     8   \n",
              "4       0.6        141        2  ...       1208      1212  1411     8     2   \n",
              "...     ...        ...      ...  ...        ...       ...   ...   ...   ...   \n",
              "1995    0.8        106        6  ...       1222      1890   668    13     4   \n",
              "1996    0.2        187        4  ...        915      1965  2032    11    10   \n",
              "1997    0.7        108        8  ...        868      1632  3057     9     1   \n",
              "1998    0.1        145        5  ...        336       670   869    18    10   \n",
              "1999    0.9        168        6  ...        483       754  3919    19     4   \n",
              "\n",
              "      talk_time  three_g  touch_screen  wifi  price_range  \n",
              "0            19        0             0     1            1  \n",
              "1             7        1             1     0            2  \n",
              "2             9        1             1     0            2  \n",
              "3            11        1             0     0            2  \n",
              "4            15        1             1     0            1  \n",
              "...         ...      ...           ...   ...          ...  \n",
              "1995         19        1             1     0            0  \n",
              "1996         16        1             1     1            2  \n",
              "1997          5        1             1     0            3  \n",
              "1998         19        1             1     1            0  \n",
              "1999          2        1             1     1            3  \n",
              "\n",
              "[2000 rows x 21 columns]"
            ],
            "text/html": [
              "\n",
              "  <div id=\"df-c316dfe4-5511-4897-80fe-1aefe3fb8bd2\" class=\"colab-df-container\">\n",
              "    <div>\n",
              "<style scoped>\n",
              "    .dataframe tbody tr th:only-of-type {\n",
              "        vertical-align: middle;\n",
              "    }\n",
              "\n",
              "    .dataframe tbody tr th {\n",
              "        vertical-align: top;\n",
              "    }\n",
              "\n",
              "    .dataframe thead th {\n",
              "        text-align: right;\n",
              "    }\n",
              "</style>\n",
              "<table border=\"1\" class=\"dataframe\">\n",
              "  <thead>\n",
              "    <tr style=\"text-align: right;\">\n",
              "      <th></th>\n",
              "      <th>battery_power</th>\n",
              "      <th>blue</th>\n",
              "      <th>clock_speed</th>\n",
              "      <th>dual_sim</th>\n",
              "      <th>fc</th>\n",
              "      <th>four_g</th>\n",
              "      <th>int_memory</th>\n",
              "      <th>m_dep</th>\n",
              "      <th>mobile_wt</th>\n",
              "      <th>n_cores</th>\n",
              "      <th>...</th>\n",
              "      <th>px_height</th>\n",
              "      <th>px_width</th>\n",
              "      <th>ram</th>\n",
              "      <th>sc_h</th>\n",
              "      <th>sc_w</th>\n",
              "      <th>talk_time</th>\n",
              "      <th>three_g</th>\n",
              "      <th>touch_screen</th>\n",
              "      <th>wifi</th>\n",
              "      <th>price_range</th>\n",
              "    </tr>\n",
              "  </thead>\n",
              "  <tbody>\n",
              "    <tr>\n",
              "      <th>0</th>\n",
              "      <td>842</td>\n",
              "      <td>0</td>\n",
              "      <td>2.2</td>\n",
              "      <td>0</td>\n",
              "      <td>1</td>\n",
              "      <td>0</td>\n",
              "      <td>7</td>\n",
              "      <td>0.6</td>\n",
              "      <td>188</td>\n",
              "      <td>2</td>\n",
              "      <td>...</td>\n",
              "      <td>20</td>\n",
              "      <td>756</td>\n",
              "      <td>2549</td>\n",
              "      <td>9</td>\n",
              "      <td>7</td>\n",
              "      <td>19</td>\n",
              "      <td>0</td>\n",
              "      <td>0</td>\n",
              "      <td>1</td>\n",
              "      <td>1</td>\n",
              "    </tr>\n",
              "    <tr>\n",
              "      <th>1</th>\n",
              "      <td>1021</td>\n",
              "      <td>1</td>\n",
              "      <td>0.5</td>\n",
              "      <td>1</td>\n",
              "      <td>0</td>\n",
              "      <td>1</td>\n",
              "      <td>53</td>\n",
              "      <td>0.7</td>\n",
              "      <td>136</td>\n",
              "      <td>3</td>\n",
              "      <td>...</td>\n",
              "      <td>905</td>\n",
              "      <td>1988</td>\n",
              "      <td>2631</td>\n",
              "      <td>17</td>\n",
              "      <td>3</td>\n",
              "      <td>7</td>\n",
              "      <td>1</td>\n",
              "      <td>1</td>\n",
              "      <td>0</td>\n",
              "      <td>2</td>\n",
              "    </tr>\n",
              "    <tr>\n",
              "      <th>2</th>\n",
              "      <td>563</td>\n",
              "      <td>1</td>\n",
              "      <td>0.5</td>\n",
              "      <td>1</td>\n",
              "      <td>2</td>\n",
              "      <td>1</td>\n",
              "      <td>41</td>\n",
              "      <td>0.9</td>\n",
              "      <td>145</td>\n",
              "      <td>5</td>\n",
              "      <td>...</td>\n",
              "      <td>1263</td>\n",
              "      <td>1716</td>\n",
              "      <td>2603</td>\n",
              "      <td>11</td>\n",
              "      <td>2</td>\n",
              "      <td>9</td>\n",
              "      <td>1</td>\n",
              "      <td>1</td>\n",
              "      <td>0</td>\n",
              "      <td>2</td>\n",
              "    </tr>\n",
              "    <tr>\n",
              "      <th>3</th>\n",
              "      <td>615</td>\n",
              "      <td>1</td>\n",
              "      <td>2.5</td>\n",
              "      <td>0</td>\n",
              "      <td>0</td>\n",
              "      <td>0</td>\n",
              "      <td>10</td>\n",
              "      <td>0.8</td>\n",
              "      <td>131</td>\n",
              "      <td>6</td>\n",
              "      <td>...</td>\n",
              "      <td>1216</td>\n",
              "      <td>1786</td>\n",
              "      <td>2769</td>\n",
              "      <td>16</td>\n",
              "      <td>8</td>\n",
              "      <td>11</td>\n",
              "      <td>1</td>\n",
              "      <td>0</td>\n",
              "      <td>0</td>\n",
              "      <td>2</td>\n",
              "    </tr>\n",
              "    <tr>\n",
              "      <th>4</th>\n",
              "      <td>1821</td>\n",
              "      <td>1</td>\n",
              "      <td>1.2</td>\n",
              "      <td>0</td>\n",
              "      <td>13</td>\n",
              "      <td>1</td>\n",
              "      <td>44</td>\n",
              "      <td>0.6</td>\n",
              "      <td>141</td>\n",
              "      <td>2</td>\n",
              "      <td>...</td>\n",
              "      <td>1208</td>\n",
              "      <td>1212</td>\n",
              "      <td>1411</td>\n",
              "      <td>8</td>\n",
              "      <td>2</td>\n",
              "      <td>15</td>\n",
              "      <td>1</td>\n",
              "      <td>1</td>\n",
              "      <td>0</td>\n",
              "      <td>1</td>\n",
              "    </tr>\n",
              "    <tr>\n",
              "      <th>...</th>\n",
              "      <td>...</td>\n",
              "      <td>...</td>\n",
              "      <td>...</td>\n",
              "      <td>...</td>\n",
              "      <td>...</td>\n",
              "      <td>...</td>\n",
              "      <td>...</td>\n",
              "      <td>...</td>\n",
              "      <td>...</td>\n",
              "      <td>...</td>\n",
              "      <td>...</td>\n",
              "      <td>...</td>\n",
              "      <td>...</td>\n",
              "      <td>...</td>\n",
              "      <td>...</td>\n",
              "      <td>...</td>\n",
              "      <td>...</td>\n",
              "      <td>...</td>\n",
              "      <td>...</td>\n",
              "      <td>...</td>\n",
              "      <td>...</td>\n",
              "    </tr>\n",
              "    <tr>\n",
              "      <th>1995</th>\n",
              "      <td>794</td>\n",
              "      <td>1</td>\n",
              "      <td>0.5</td>\n",
              "      <td>1</td>\n",
              "      <td>0</td>\n",
              "      <td>1</td>\n",
              "      <td>2</td>\n",
              "      <td>0.8</td>\n",
              "      <td>106</td>\n",
              "      <td>6</td>\n",
              "      <td>...</td>\n",
              "      <td>1222</td>\n",
              "      <td>1890</td>\n",
              "      <td>668</td>\n",
              "      <td>13</td>\n",
              "      <td>4</td>\n",
              "      <td>19</td>\n",
              "      <td>1</td>\n",
              "      <td>1</td>\n",
              "      <td>0</td>\n",
              "      <td>0</td>\n",
              "    </tr>\n",
              "    <tr>\n",
              "      <th>1996</th>\n",
              "      <td>1965</td>\n",
              "      <td>1</td>\n",
              "      <td>2.6</td>\n",
              "      <td>1</td>\n",
              "      <td>0</td>\n",
              "      <td>0</td>\n",
              "      <td>39</td>\n",
              "      <td>0.2</td>\n",
              "      <td>187</td>\n",
              "      <td>4</td>\n",
              "      <td>...</td>\n",
              "      <td>915</td>\n",
              "      <td>1965</td>\n",
              "      <td>2032</td>\n",
              "      <td>11</td>\n",
              "      <td>10</td>\n",
              "      <td>16</td>\n",
              "      <td>1</td>\n",
              "      <td>1</td>\n",
              "      <td>1</td>\n",
              "      <td>2</td>\n",
              "    </tr>\n",
              "    <tr>\n",
              "      <th>1997</th>\n",
              "      <td>1911</td>\n",
              "      <td>0</td>\n",
              "      <td>0.9</td>\n",
              "      <td>1</td>\n",
              "      <td>1</td>\n",
              "      <td>1</td>\n",
              "      <td>36</td>\n",
              "      <td>0.7</td>\n",
              "      <td>108</td>\n",
              "      <td>8</td>\n",
              "      <td>...</td>\n",
              "      <td>868</td>\n",
              "      <td>1632</td>\n",
              "      <td>3057</td>\n",
              "      <td>9</td>\n",
              "      <td>1</td>\n",
              "      <td>5</td>\n",
              "      <td>1</td>\n",
              "      <td>1</td>\n",
              "      <td>0</td>\n",
              "      <td>3</td>\n",
              "    </tr>\n",
              "    <tr>\n",
              "      <th>1998</th>\n",
              "      <td>1512</td>\n",
              "      <td>0</td>\n",
              "      <td>0.9</td>\n",
              "      <td>0</td>\n",
              "      <td>4</td>\n",
              "      <td>1</td>\n",
              "      <td>46</td>\n",
              "      <td>0.1</td>\n",
              "      <td>145</td>\n",
              "      <td>5</td>\n",
              "      <td>...</td>\n",
              "      <td>336</td>\n",
              "      <td>670</td>\n",
              "      <td>869</td>\n",
              "      <td>18</td>\n",
              "      <td>10</td>\n",
              "      <td>19</td>\n",
              "      <td>1</td>\n",
              "      <td>1</td>\n",
              "      <td>1</td>\n",
              "      <td>0</td>\n",
              "    </tr>\n",
              "    <tr>\n",
              "      <th>1999</th>\n",
              "      <td>510</td>\n",
              "      <td>1</td>\n",
              "      <td>2.0</td>\n",
              "      <td>1</td>\n",
              "      <td>5</td>\n",
              "      <td>1</td>\n",
              "      <td>45</td>\n",
              "      <td>0.9</td>\n",
              "      <td>168</td>\n",
              "      <td>6</td>\n",
              "      <td>...</td>\n",
              "      <td>483</td>\n",
              "      <td>754</td>\n",
              "      <td>3919</td>\n",
              "      <td>19</td>\n",
              "      <td>4</td>\n",
              "      <td>2</td>\n",
              "      <td>1</td>\n",
              "      <td>1</td>\n",
              "      <td>1</td>\n",
              "      <td>3</td>\n",
              "    </tr>\n",
              "  </tbody>\n",
              "</table>\n",
              "<p>2000 rows × 21 columns</p>\n",
              "</div>\n",
              "    <div class=\"colab-df-buttons\">\n",
              "\n",
              "  <div class=\"colab-df-container\">\n",
              "    <button class=\"colab-df-convert\" onclick=\"convertToInteractive('df-c316dfe4-5511-4897-80fe-1aefe3fb8bd2')\"\n",
              "            title=\"Convert this dataframe to an interactive table.\"\n",
              "            style=\"display:none;\">\n",
              "\n",
              "  <svg xmlns=\"http://www.w3.org/2000/svg\" height=\"24px\" viewBox=\"0 -960 960 960\">\n",
              "    <path d=\"M120-120v-720h720v720H120Zm60-500h600v-160H180v160Zm220 220h160v-160H400v160Zm0 220h160v-160H400v160ZM180-400h160v-160H180v160Zm440 0h160v-160H620v160ZM180-180h160v-160H180v160Zm440 0h160v-160H620v160Z\"/>\n",
              "  </svg>\n",
              "    </button>\n",
              "\n",
              "  <style>\n",
              "    .colab-df-container {\n",
              "      display:flex;\n",
              "      gap: 12px;\n",
              "    }\n",
              "\n",
              "    .colab-df-convert {\n",
              "      background-color: #E8F0FE;\n",
              "      border: none;\n",
              "      border-radius: 50%;\n",
              "      cursor: pointer;\n",
              "      display: none;\n",
              "      fill: #1967D2;\n",
              "      height: 32px;\n",
              "      padding: 0 0 0 0;\n",
              "      width: 32px;\n",
              "    }\n",
              "\n",
              "    .colab-df-convert:hover {\n",
              "      background-color: #E2EBFA;\n",
              "      box-shadow: 0px 1px 2px rgba(60, 64, 67, 0.3), 0px 1px 3px 1px rgba(60, 64, 67, 0.15);\n",
              "      fill: #174EA6;\n",
              "    }\n",
              "\n",
              "    .colab-df-buttons div {\n",
              "      margin-bottom: 4px;\n",
              "    }\n",
              "\n",
              "    [theme=dark] .colab-df-convert {\n",
              "      background-color: #3B4455;\n",
              "      fill: #D2E3FC;\n",
              "    }\n",
              "\n",
              "    [theme=dark] .colab-df-convert:hover {\n",
              "      background-color: #434B5C;\n",
              "      box-shadow: 0px 1px 3px 1px rgba(0, 0, 0, 0.15);\n",
              "      filter: drop-shadow(0px 1px 2px rgba(0, 0, 0, 0.3));\n",
              "      fill: #FFFFFF;\n",
              "    }\n",
              "  </style>\n",
              "\n",
              "    <script>\n",
              "      const buttonEl =\n",
              "        document.querySelector('#df-c316dfe4-5511-4897-80fe-1aefe3fb8bd2 button.colab-df-convert');\n",
              "      buttonEl.style.display =\n",
              "        google.colab.kernel.accessAllowed ? 'block' : 'none';\n",
              "\n",
              "      async function convertToInteractive(key) {\n",
              "        const element = document.querySelector('#df-c316dfe4-5511-4897-80fe-1aefe3fb8bd2');\n",
              "        const dataTable =\n",
              "          await google.colab.kernel.invokeFunction('convertToInteractive',\n",
              "                                                    [key], {});\n",
              "        if (!dataTable) return;\n",
              "\n",
              "        const docLinkHtml = 'Like what you see? Visit the ' +\n",
              "          '<a target=\"_blank\" href=https://colab.research.google.com/notebooks/data_table.ipynb>data table notebook</a>'\n",
              "          + ' to learn more about interactive tables.';\n",
              "        element.innerHTML = '';\n",
              "        dataTable['output_type'] = 'display_data';\n",
              "        await google.colab.output.renderOutput(dataTable, element);\n",
              "        const docLink = document.createElement('div');\n",
              "        docLink.innerHTML = docLinkHtml;\n",
              "        element.appendChild(docLink);\n",
              "      }\n",
              "    </script>\n",
              "  </div>\n",
              "\n",
              "\n",
              "<div id=\"df-1b110414-9536-4ae1-809d-067f68f276ed\">\n",
              "  <button class=\"colab-df-quickchart\" onclick=\"quickchart('df-1b110414-9536-4ae1-809d-067f68f276ed')\"\n",
              "            title=\"Suggest charts.\"\n",
              "            style=\"display:none;\">\n",
              "\n",
              "<svg xmlns=\"http://www.w3.org/2000/svg\" height=\"24px\"viewBox=\"0 0 24 24\"\n",
              "     width=\"24px\">\n",
              "    <g>\n",
              "        <path d=\"M19 3H5c-1.1 0-2 .9-2 2v14c0 1.1.9 2 2 2h14c1.1 0 2-.9 2-2V5c0-1.1-.9-2-2-2zM9 17H7v-7h2v7zm4 0h-2V7h2v10zm4 0h-2v-4h2v4z\"/>\n",
              "    </g>\n",
              "</svg>\n",
              "  </button>\n",
              "\n",
              "<style>\n",
              "  .colab-df-quickchart {\n",
              "      --bg-color: #E8F0FE;\n",
              "      --fill-color: #1967D2;\n",
              "      --hover-bg-color: #E2EBFA;\n",
              "      --hover-fill-color: #174EA6;\n",
              "      --disabled-fill-color: #AAA;\n",
              "      --disabled-bg-color: #DDD;\n",
              "  }\n",
              "\n",
              "  [theme=dark] .colab-df-quickchart {\n",
              "      --bg-color: #3B4455;\n",
              "      --fill-color: #D2E3FC;\n",
              "      --hover-bg-color: #434B5C;\n",
              "      --hover-fill-color: #FFFFFF;\n",
              "      --disabled-bg-color: #3B4455;\n",
              "      --disabled-fill-color: #666;\n",
              "  }\n",
              "\n",
              "  .colab-df-quickchart {\n",
              "    background-color: var(--bg-color);\n",
              "    border: none;\n",
              "    border-radius: 50%;\n",
              "    cursor: pointer;\n",
              "    display: none;\n",
              "    fill: var(--fill-color);\n",
              "    height: 32px;\n",
              "    padding: 0;\n",
              "    width: 32px;\n",
              "  }\n",
              "\n",
              "  .colab-df-quickchart:hover {\n",
              "    background-color: var(--hover-bg-color);\n",
              "    box-shadow: 0 1px 2px rgba(60, 64, 67, 0.3), 0 1px 3px 1px rgba(60, 64, 67, 0.15);\n",
              "    fill: var(--button-hover-fill-color);\n",
              "  }\n",
              "\n",
              "  .colab-df-quickchart-complete:disabled,\n",
              "  .colab-df-quickchart-complete:disabled:hover {\n",
              "    background-color: var(--disabled-bg-color);\n",
              "    fill: var(--disabled-fill-color);\n",
              "    box-shadow: none;\n",
              "  }\n",
              "\n",
              "  .colab-df-spinner {\n",
              "    border: 2px solid var(--fill-color);\n",
              "    border-color: transparent;\n",
              "    border-bottom-color: var(--fill-color);\n",
              "    animation:\n",
              "      spin 1s steps(1) infinite;\n",
              "  }\n",
              "\n",
              "  @keyframes spin {\n",
              "    0% {\n",
              "      border-color: transparent;\n",
              "      border-bottom-color: var(--fill-color);\n",
              "      border-left-color: var(--fill-color);\n",
              "    }\n",
              "    20% {\n",
              "      border-color: transparent;\n",
              "      border-left-color: var(--fill-color);\n",
              "      border-top-color: var(--fill-color);\n",
              "    }\n",
              "    30% {\n",
              "      border-color: transparent;\n",
              "      border-left-color: var(--fill-color);\n",
              "      border-top-color: var(--fill-color);\n",
              "      border-right-color: var(--fill-color);\n",
              "    }\n",
              "    40% {\n",
              "      border-color: transparent;\n",
              "      border-right-color: var(--fill-color);\n",
              "      border-top-color: var(--fill-color);\n",
              "    }\n",
              "    60% {\n",
              "      border-color: transparent;\n",
              "      border-right-color: var(--fill-color);\n",
              "    }\n",
              "    80% {\n",
              "      border-color: transparent;\n",
              "      border-right-color: var(--fill-color);\n",
              "      border-bottom-color: var(--fill-color);\n",
              "    }\n",
              "    90% {\n",
              "      border-color: transparent;\n",
              "      border-bottom-color: var(--fill-color);\n",
              "    }\n",
              "  }\n",
              "</style>\n",
              "\n",
              "  <script>\n",
              "    async function quickchart(key) {\n",
              "      const quickchartButtonEl =\n",
              "        document.querySelector('#' + key + ' button');\n",
              "      quickchartButtonEl.disabled = true;  // To prevent multiple clicks.\n",
              "      quickchartButtonEl.classList.add('colab-df-spinner');\n",
              "      try {\n",
              "        const charts = await google.colab.kernel.invokeFunction(\n",
              "            'suggestCharts', [key], {});\n",
              "      } catch (error) {\n",
              "        console.error('Error during call to suggestCharts:', error);\n",
              "      }\n",
              "      quickchartButtonEl.classList.remove('colab-df-spinner');\n",
              "      quickchartButtonEl.classList.add('colab-df-quickchart-complete');\n",
              "    }\n",
              "    (() => {\n",
              "      let quickchartButtonEl =\n",
              "        document.querySelector('#df-1b110414-9536-4ae1-809d-067f68f276ed button');\n",
              "      quickchartButtonEl.style.display =\n",
              "        google.colab.kernel.accessAllowed ? 'block' : 'none';\n",
              "    })();\n",
              "  </script>\n",
              "</div>\n",
              "    </div>\n",
              "  </div>\n"
            ]
          },
          "metadata": {},
          "execution_count": 66
        }
      ]
    },
    {
      "cell_type": "markdown",
      "source": [
        "## Split"
      ],
      "metadata": {
        "id": "_RlAcfkrvBDn"
      }
    },
    {
      "cell_type": "code",
      "source": [
        "x_train, x_valid, y_train, y_valid = train_test_split(X, y, train_size=0.7, random_state=42)"
      ],
      "metadata": {
        "id": "ml1npqT8yzrO"
      },
      "execution_count": null,
      "outputs": []
    },
    {
      "cell_type": "markdown",
      "source": [
        "## Preprocess"
      ],
      "metadata": {
        "id": "5qOD027He6RR"
      }
    },
    {
      "cell_type": "code",
      "source": [
        "x_train = torch.FloatTensor(x_train.values)\n",
        "y_train = torch.LongTensor(y_train.values)\n",
        "\n",
        "x_valid = torch.FloatTensor(x_valid.values)\n",
        "y_valid = torch.LongTensor(y_valid.values)\n",
        "\n",
        "mu = x_train.mean(dim=0)\n",
        "std = x_train.std(dim=0)\n",
        "\n",
        "x_train = (x_train - mu) / std\n",
        "x_valid = (x_valid - mu) / std"
      ],
      "metadata": {
        "id": "w7hFEHNGe91D"
      },
      "execution_count": null,
      "outputs": []
    },
    {
      "cell_type": "markdown",
      "source": [
        "## Dataloader"
      ],
      "metadata": {
        "id": "Fy195c8EfWDJ"
      }
    },
    {
      "cell_type": "code",
      "source": [
        "train_dataset = TensorDataset(x_train, y_train)\n",
        "train_loader = DataLoader(train_dataset, 20, True)\n",
        "\n",
        "valid_dataset = TensorDataset(x_valid, y_valid)\n",
        "valid_loader = DataLoader(valid_dataset, batch_size=200)"
      ],
      "metadata": {
        "id": "ZSSRbHM0fT-A"
      },
      "execution_count": null,
      "outputs": []
    },
    {
      "cell_type": "markdown",
      "source": [
        "# **Model 🧠**"
      ],
      "metadata": {
        "id": "-NBcJXJkfgUI"
      }
    },
    {
      "cell_type": "code",
      "source": [
        "num_feats = 20\n",
        "num_class = 4\n",
        "h1 = 64\n",
        "h2 = 32\n",
        "\n",
        "model = nn.Sequential(nn.Linear(num_feats, h1),\n",
        "                      nn.ReLU(),\n",
        "                      # nn.Dropout(0.5),\n",
        "                      nn.Linear(h1, h2),\n",
        "                      nn.ReLU(),\n",
        "                      nn.Linear(h2, num_class))"
      ],
      "metadata": {
        "id": "2b9Po2RYfi8C"
      },
      "execution_count": null,
      "outputs": []
    },
    {
      "cell_type": "code",
      "source": [
        "model[0].bias"
      ],
      "metadata": {
        "colab": {
          "base_uri": "https://localhost:8080/"
        },
        "id": "GNeXEGB2Wx8m",
        "outputId": "0aa77346-b750-4e1f-b646-48bee9acef2f"
      },
      "execution_count": null,
      "outputs": [
        {
          "output_type": "execute_result",
          "data": {
            "text/plain": [
              "Parameter containing:\n",
              "tensor([ 0.1531, -0.1257,  0.1399,  0.2030, -0.0195,  0.1256,  0.2010,  0.2025,\n",
              "        -0.0034, -0.1986,  0.1044,  0.0959,  0.0936,  0.1636, -0.1977, -0.0075,\n",
              "         0.0699, -0.2144,  0.1890,  0.1744,  0.1394, -0.0483, -0.0713,  0.0389,\n",
              "         0.1351,  0.1066,  0.0297,  0.1071,  0.0187, -0.0738,  0.0644, -0.0159,\n",
              "        -0.0306,  0.2022, -0.2154, -0.0436, -0.0276, -0.1047,  0.0549,  0.1874,\n",
              "        -0.1608,  0.1737,  0.1984,  0.1887,  0.0556,  0.0252, -0.1097, -0.0062,\n",
              "         0.1005,  0.1677, -0.1517, -0.1228,  0.1635, -0.1139, -0.1122, -0.0835,\n",
              "        -0.1048, -0.2199,  0.0183,  0.0399, -0.0152,  0.0290,  0.1810,  0.1995],\n",
              "       requires_grad=True)"
            ]
          },
          "metadata": {},
          "execution_count": 12
        }
      ]
    },
    {
      "cell_type": "markdown",
      "source": [
        "\n",
        "\n",
        "## *   torch.nn\n",
        "## *   Dropout\n",
        "\n"
      ],
      "metadata": {
        "id": "KPmwOnoKM3Te"
      }
    },
    {
      "cell_type": "markdown",
      "source": [
        "# **Loss & Optimizer ⚖️**"
      ],
      "metadata": {
        "id": "xFbRtOqLfnh6"
      }
    },
    {
      "cell_type": "code",
      "source": [
        "loss_fn = nn.CrossEntropyLoss()\n",
        "optimizer = optim.SGD(model.parameters(), lr=0.01,\n",
        "                      momentum=0.9, nesterov=True,\n",
        "                      weight_decay=1e-4)\n"
      ],
      "metadata": {
        "id": "EpzTOAOafj8e"
      },
      "execution_count": null,
      "outputs": []
    },
    {
      "cell_type": "markdown",
      "source": [
        "# **Device ⚙️**"
      ],
      "metadata": {
        "id": "DY5JMY1Yftsr"
      }
    },
    {
      "cell_type": "code",
      "source": [
        "device = 'cuda' if torch.cuda.is_available() else 'cpu'\n",
        "model = model.to(device)"
      ],
      "metadata": {
        "id": "Ce6_MpTcfrGi"
      },
      "execution_count": null,
      "outputs": []
    },
    {
      "cell_type": "markdown",
      "source": [
        "# **Utils 🧰**"
      ],
      "metadata": {
        "id": "mbpEEA0g1-Be"
      }
    },
    {
      "cell_type": "code",
      "source": [
        "class AverageMeter(object):\n",
        "    \"\"\"Computes and stores the average and current value\"\"\"\n",
        "    def __init__(self):\n",
        "        self.reset()\n",
        "\n",
        "    def reset(self):\n",
        "        self.val = 0\n",
        "        self.avg = 0\n",
        "        self.sum = 0\n",
        "        self.count = 0\n",
        "\n",
        "    def update(self, val, n=1):\n",
        "        self.val = val\n",
        "        self.sum += val * n\n",
        "        self.count += n\n",
        "        self.avg = self.sum / self.count"
      ],
      "metadata": {
        "id": "G6s889_UrqDT"
      },
      "execution_count": null,
      "outputs": []
    },
    {
      "cell_type": "markdown",
      "source": [
        "# **Functions** 🧮"
      ],
      "metadata": {
        "id": "B_LljZFVAFPA"
      }
    },
    {
      "cell_type": "code",
      "source": [
        "def train_one_epoch(model, train_loader, loss_fn, optimizer, epoch=None):\n",
        "  model.train()\n",
        "  loss_train = AverageMeter()\n",
        "  acc_train = Accuracy(task=\"multiclass\", num_classes=4).to(device)\n",
        "  with tqdm(train_loader, unit='batch') as tepoch:\n",
        "    for inputs, targets in tepoch:\n",
        "      if epoch is not None:\n",
        "        tepoch.set_description(f'Epoch {epoch}')\n",
        "      inputs = inputs.to(device)\n",
        "      targets = targets.to(device)\n",
        "\n",
        "      outputs = model(inputs)\n",
        "      loss = loss_fn(outputs, targets)\n",
        "      loss.backward()\n",
        "      optimizer.step()\n",
        "      optimizer.zero_grad()\n",
        "\n",
        "      loss_train.update(loss.item())\n",
        "      acc_train(outputs, targets.int())\n",
        "\n",
        "      tepoch.set_postfix(loss = loss_train.avg,\n",
        "                         accuracy = 100*acc_train.compute().item() )\n",
        "\n",
        "  return model, loss_train.avg, acc_train.compute().item()\n"
      ],
      "metadata": {
        "id": "-fgWYD2NIAUk"
      },
      "execution_count": null,
      "outputs": []
    },
    {
      "cell_type": "code",
      "source": [
        "def evaluate(model, valid_loader, loss_fn):\n",
        "  model.eval()\n",
        "  with torch.no_grad():\n",
        "    loss_valid = AverageMeter()\n",
        "    acc_valid = Accuracy(task=\"multiclass\", num_classes=4).to(device)\n",
        "    for i, (inputs, targets) in enumerate(valid_loader):\n",
        "      inputs = inputs.to(device)\n",
        "      targets = targets.to(device)\n",
        "\n",
        "      outputs = model(inputs)\n",
        "      loss = loss_fn(outputs, targets)\n",
        "\n",
        "      loss_valid.update(loss.item())\n",
        "      acc_valid(outputs, targets.int())\n",
        "  return loss_valid.avg, acc_valid.compute()"
      ],
      "metadata": {
        "id": "LnJa1ZXOlKed"
      },
      "execution_count": null,
      "outputs": []
    },
    {
      "cell_type": "markdown",
      "source": [
        "# **Train**"
      ],
      "metadata": {
        "id": "SMlnazVEN50z"
      }
    },
    {
      "cell_type": "code",
      "source": [
        "num_epochs = 100\n",
        "\n",
        "loss_train_hist = []\n",
        "loss_valid_hist = []\n",
        "\n",
        "acc_train_hist = []\n",
        "acc_valid_hist = []\n",
        "\n",
        "for epoch in range(num_epochs):\n",
        "  model ,loss_train, acc_train = train_one_epoch(model,\n",
        "                                                 train_loader,\n",
        "                                                 loss_fn,\n",
        "                                                 optimizer,\n",
        "                                                 epoch)\n",
        "  loss_valid, acc_valid = evaluate(model,\n",
        "                                   valid_loader,\n",
        "                                   loss_fn)\n",
        "\n",
        "  loss_train_hist.append(loss_train)\n",
        "  loss_valid_hist.append(loss_valid)\n",
        "\n",
        "  acc_train_hist.append(acc_train)\n",
        "  acc_valid_hist.append(acc_valid)\n",
        "\n",
        "  print(f'Valid: Loss = {loss_valid:.4}, Accuracy = {acc_valid:.4}')\n",
        "  print()\n"
      ],
      "metadata": {
        "id": "5X7-QWZ6VnFT",
        "outputId": "7afde7b3-c5ed-4f21-9472-8c079459e4dc",
        "colab": {
          "base_uri": "https://localhost:8080/"
        }
      },
      "execution_count": null,
      "outputs": [
        {
          "output_type": "stream",
          "name": "stderr",
          "text": [
            "Epoch 0: 100%|██████████| 70/70 [00:00<00:00, 120.73batch/s, accuracy=40.4, loss=1.3]\n"
          ]
        },
        {
          "output_type": "stream",
          "name": "stdout",
          "text": [
            "Valid: Loss = 1.095, Accuracy = 0.5667\n",
            "\n"
          ]
        },
        {
          "output_type": "stream",
          "name": "stderr",
          "text": [
            "Epoch 1: 100%|██████████| 70/70 [00:00<00:00, 118.98batch/s, accuracy=68.1, loss=0.802]\n"
          ]
        },
        {
          "output_type": "stream",
          "name": "stdout",
          "text": [
            "Valid: Loss = 0.5516, Accuracy = 0.9\n",
            "\n"
          ]
        },
        {
          "output_type": "stream",
          "name": "stderr",
          "text": [
            "Epoch 2: 100%|██████████| 70/70 [00:00<00:00, 117.00batch/s, accuracy=88.8, loss=0.432]\n"
          ]
        },
        {
          "output_type": "stream",
          "name": "stdout",
          "text": [
            "Valid: Loss = 0.3336, Accuracy = 0.925\n",
            "\n"
          ]
        },
        {
          "output_type": "stream",
          "name": "stderr",
          "text": [
            "Epoch 3: 100%|██████████| 70/70 [00:00<00:00, 112.40batch/s, accuracy=92.5, loss=0.282]\n"
          ]
        },
        {
          "output_type": "stream",
          "name": "stdout",
          "text": [
            "Valid: Loss = 0.2611, Accuracy = 0.9\n",
            "\n"
          ]
        },
        {
          "output_type": "stream",
          "name": "stderr",
          "text": [
            "Epoch 4: 100%|██████████| 70/70 [00:00<00:00, 107.68batch/s, accuracy=94.1, loss=0.206]\n"
          ]
        },
        {
          "output_type": "stream",
          "name": "stdout",
          "text": [
            "Valid: Loss = 0.22, Accuracy = 0.9283\n",
            "\n"
          ]
        },
        {
          "output_type": "stream",
          "name": "stderr",
          "text": [
            "Epoch 5: 100%|██████████| 70/70 [00:00<00:00, 108.59batch/s, accuracy=95.5, loss=0.161]\n"
          ]
        },
        {
          "output_type": "stream",
          "name": "stdout",
          "text": [
            "Valid: Loss = 0.2004, Accuracy = 0.9267\n",
            "\n"
          ]
        },
        {
          "output_type": "stream",
          "name": "stderr",
          "text": [
            "Epoch 6: 100%|██████████| 70/70 [00:00<00:00, 109.32batch/s, accuracy=96, loss=0.134]\n"
          ]
        },
        {
          "output_type": "stream",
          "name": "stdout",
          "text": [
            "Valid: Loss = 0.19, Accuracy = 0.9117\n",
            "\n"
          ]
        },
        {
          "output_type": "stream",
          "name": "stderr",
          "text": [
            "Epoch 7: 100%|██████████| 70/70 [00:00<00:00, 106.47batch/s, accuracy=96.4, loss=0.118]\n"
          ]
        },
        {
          "output_type": "stream",
          "name": "stdout",
          "text": [
            "Valid: Loss = 0.1843, Accuracy = 0.92\n",
            "\n"
          ]
        },
        {
          "output_type": "stream",
          "name": "stderr",
          "text": [
            "Epoch 8: 100%|██████████| 70/70 [00:00<00:00, 115.91batch/s, accuracy=97.4, loss=0.0963]\n"
          ]
        },
        {
          "output_type": "stream",
          "name": "stdout",
          "text": [
            "Valid: Loss = 0.2038, Accuracy = 0.9167\n",
            "\n"
          ]
        },
        {
          "output_type": "stream",
          "name": "stderr",
          "text": [
            "Epoch 9: 100%|██████████| 70/70 [00:00<00:00, 109.27batch/s, accuracy=98.1, loss=0.0808]\n"
          ]
        },
        {
          "output_type": "stream",
          "name": "stdout",
          "text": [
            "Valid: Loss = 0.1662, Accuracy = 0.925\n",
            "\n"
          ]
        },
        {
          "output_type": "stream",
          "name": "stderr",
          "text": [
            "Epoch 10: 100%|██████████| 70/70 [00:00<00:00, 117.95batch/s, accuracy=97.9, loss=0.079]\n"
          ]
        },
        {
          "output_type": "stream",
          "name": "stdout",
          "text": [
            "Valid: Loss = 0.1746, Accuracy = 0.9183\n",
            "\n"
          ]
        },
        {
          "output_type": "stream",
          "name": "stderr",
          "text": [
            "Epoch 11: 100%|██████████| 70/70 [00:00<00:00, 115.16batch/s, accuracy=98.6, loss=0.0642]\n"
          ]
        },
        {
          "output_type": "stream",
          "name": "stdout",
          "text": [
            "Valid: Loss = 0.1866, Accuracy = 0.92\n",
            "\n"
          ]
        },
        {
          "output_type": "stream",
          "name": "stderr",
          "text": [
            "Epoch 12: 100%|██████████| 70/70 [00:00<00:00, 118.54batch/s, accuracy=98.4, loss=0.0613]\n"
          ]
        },
        {
          "output_type": "stream",
          "name": "stdout",
          "text": [
            "Valid: Loss = 0.1854, Accuracy = 0.9183\n",
            "\n"
          ]
        },
        {
          "output_type": "stream",
          "name": "stderr",
          "text": [
            "Epoch 13: 100%|██████████| 70/70 [00:00<00:00, 124.31batch/s, accuracy=98.7, loss=0.0523]\n"
          ]
        },
        {
          "output_type": "stream",
          "name": "stdout",
          "text": [
            "Valid: Loss = 0.2001, Accuracy = 0.9183\n",
            "\n"
          ]
        },
        {
          "output_type": "stream",
          "name": "stderr",
          "text": [
            "Epoch 14: 100%|██████████| 70/70 [00:00<00:00, 113.24batch/s, accuracy=99.4, loss=0.0421]\n"
          ]
        },
        {
          "output_type": "stream",
          "name": "stdout",
          "text": [
            "Valid: Loss = 0.1846, Accuracy = 0.93\n",
            "\n"
          ]
        },
        {
          "output_type": "stream",
          "name": "stderr",
          "text": [
            "Epoch 15: 100%|██████████| 70/70 [00:00<00:00, 125.42batch/s, accuracy=99.3, loss=0.0406]\n"
          ]
        },
        {
          "output_type": "stream",
          "name": "stdout",
          "text": [
            "Valid: Loss = 0.1675, Accuracy = 0.9183\n",
            "\n"
          ]
        },
        {
          "output_type": "stream",
          "name": "stderr",
          "text": [
            "Epoch 16: 100%|██████████| 70/70 [00:00<00:00, 118.96batch/s, accuracy=99.6, loss=0.0328]\n"
          ]
        },
        {
          "output_type": "stream",
          "name": "stdout",
          "text": [
            "Valid: Loss = 0.1631, Accuracy = 0.9267\n",
            "\n"
          ]
        },
        {
          "output_type": "stream",
          "name": "stderr",
          "text": [
            "Epoch 17: 100%|██████████| 70/70 [00:00<00:00, 119.01batch/s, accuracy=99.8, loss=0.0279]\n"
          ]
        },
        {
          "output_type": "stream",
          "name": "stdout",
          "text": [
            "Valid: Loss = 0.1784, Accuracy = 0.9233\n",
            "\n"
          ]
        },
        {
          "output_type": "stream",
          "name": "stderr",
          "text": [
            "Epoch 18: 100%|██████████| 70/70 [00:00<00:00, 114.44batch/s, accuracy=99.9, loss=0.0256]\n"
          ]
        },
        {
          "output_type": "stream",
          "name": "stdout",
          "text": [
            "Valid: Loss = 0.1893, Accuracy = 0.9217\n",
            "\n"
          ]
        },
        {
          "output_type": "stream",
          "name": "stderr",
          "text": [
            "Epoch 19: 100%|██████████| 70/70 [00:00<00:00, 106.04batch/s, accuracy=99.7, loss=0.0225]\n"
          ]
        },
        {
          "output_type": "stream",
          "name": "stdout",
          "text": [
            "Valid: Loss = 0.1881, Accuracy = 0.92\n",
            "\n"
          ]
        },
        {
          "output_type": "stream",
          "name": "stderr",
          "text": [
            "Epoch 20: 100%|██████████| 70/70 [00:00<00:00, 98.93batch/s, accuracy=99.9, loss=0.0185]\n"
          ]
        },
        {
          "output_type": "stream",
          "name": "stdout",
          "text": [
            "Valid: Loss = 0.1872, Accuracy = 0.9183\n",
            "\n"
          ]
        },
        {
          "output_type": "stream",
          "name": "stderr",
          "text": [
            "Epoch 21: 100%|██████████| 70/70 [00:00<00:00, 104.19batch/s, accuracy=100, loss=0.0176]\n"
          ]
        },
        {
          "output_type": "stream",
          "name": "stdout",
          "text": [
            "Valid: Loss = 0.1975, Accuracy = 0.92\n",
            "\n"
          ]
        },
        {
          "output_type": "stream",
          "name": "stderr",
          "text": [
            "Epoch 22: 100%|██████████| 70/70 [00:00<00:00, 117.23batch/s, accuracy=99.9, loss=0.0151]\n"
          ]
        },
        {
          "output_type": "stream",
          "name": "stdout",
          "text": [
            "Valid: Loss = 0.1832, Accuracy = 0.9283\n",
            "\n"
          ]
        },
        {
          "output_type": "stream",
          "name": "stderr",
          "text": [
            "Epoch 23: 100%|██████████| 70/70 [00:00<00:00, 123.62batch/s, accuracy=100, loss=0.0136]\n"
          ]
        },
        {
          "output_type": "stream",
          "name": "stdout",
          "text": [
            "Valid: Loss = 0.1965, Accuracy = 0.9183\n",
            "\n"
          ]
        },
        {
          "output_type": "stream",
          "name": "stderr",
          "text": [
            "Epoch 24: 100%|██████████| 70/70 [00:00<00:00, 118.65batch/s, accuracy=100, loss=0.0118]\n"
          ]
        },
        {
          "output_type": "stream",
          "name": "stdout",
          "text": [
            "Valid: Loss = 0.1962, Accuracy = 0.915\n",
            "\n"
          ]
        },
        {
          "output_type": "stream",
          "name": "stderr",
          "text": [
            "Epoch 25: 100%|██████████| 70/70 [00:00<00:00, 120.96batch/s, accuracy=100, loss=0.0116]\n"
          ]
        },
        {
          "output_type": "stream",
          "name": "stdout",
          "text": [
            "Valid: Loss = 0.1912, Accuracy = 0.9267\n",
            "\n"
          ]
        },
        {
          "output_type": "stream",
          "name": "stderr",
          "text": [
            "Epoch 26: 100%|██████████| 70/70 [00:00<00:00, 120.08batch/s, accuracy=100, loss=0.0101]\n"
          ]
        },
        {
          "output_type": "stream",
          "name": "stdout",
          "text": [
            "Valid: Loss = 0.1892, Accuracy = 0.9233\n",
            "\n"
          ]
        },
        {
          "output_type": "stream",
          "name": "stderr",
          "text": [
            "Epoch 27: 100%|██████████| 70/70 [00:00<00:00, 123.45batch/s, accuracy=100, loss=0.00921]\n"
          ]
        },
        {
          "output_type": "stream",
          "name": "stdout",
          "text": [
            "Valid: Loss = 0.2019, Accuracy = 0.925\n",
            "\n"
          ]
        },
        {
          "output_type": "stream",
          "name": "stderr",
          "text": [
            "Epoch 28: 100%|██████████| 70/70 [00:00<00:00, 95.43batch/s, accuracy=100, loss=0.00903]\n"
          ]
        },
        {
          "output_type": "stream",
          "name": "stdout",
          "text": [
            "Valid: Loss = 0.2113, Accuracy = 0.9183\n",
            "\n"
          ]
        },
        {
          "output_type": "stream",
          "name": "stderr",
          "text": [
            "Epoch 29: 100%|██████████| 70/70 [00:00<00:00, 91.60batch/s, accuracy=100, loss=0.00856]\n"
          ]
        },
        {
          "output_type": "stream",
          "name": "stdout",
          "text": [
            "Valid: Loss = 0.2025, Accuracy = 0.9183\n",
            "\n"
          ]
        },
        {
          "output_type": "stream",
          "name": "stderr",
          "text": [
            "Epoch 30: 100%|██████████| 70/70 [00:01<00:00, 67.97batch/s, accuracy=100, loss=0.00755]\n"
          ]
        },
        {
          "output_type": "stream",
          "name": "stdout",
          "text": [
            "Valid: Loss = 0.2121, Accuracy = 0.9217\n",
            "\n"
          ]
        },
        {
          "output_type": "stream",
          "name": "stderr",
          "text": [
            "Epoch 31: 100%|██████████| 70/70 [00:00<00:00, 71.06batch/s, accuracy=100, loss=0.00722]\n"
          ]
        },
        {
          "output_type": "stream",
          "name": "stdout",
          "text": [
            "Valid: Loss = 0.2109, Accuracy = 0.92\n",
            "\n"
          ]
        },
        {
          "output_type": "stream",
          "name": "stderr",
          "text": [
            "Epoch 32: 100%|██████████| 70/70 [00:01<00:00, 68.24batch/s, accuracy=100, loss=0.00689]\n"
          ]
        },
        {
          "output_type": "stream",
          "name": "stdout",
          "text": [
            "Valid: Loss = 0.2011, Accuracy = 0.92\n",
            "\n"
          ]
        },
        {
          "output_type": "stream",
          "name": "stderr",
          "text": [
            "Epoch 33: 100%|██████████| 70/70 [00:00<00:00, 123.29batch/s, accuracy=100, loss=0.00637]\n"
          ]
        },
        {
          "output_type": "stream",
          "name": "stdout",
          "text": [
            "Valid: Loss = 0.2073, Accuracy = 0.925\n",
            "\n"
          ]
        },
        {
          "output_type": "stream",
          "name": "stderr",
          "text": [
            "Epoch 34: 100%|██████████| 70/70 [00:00<00:00, 120.44batch/s, accuracy=100, loss=0.00635]\n"
          ]
        },
        {
          "output_type": "stream",
          "name": "stdout",
          "text": [
            "Valid: Loss = 0.2088, Accuracy = 0.9233\n",
            "\n"
          ]
        },
        {
          "output_type": "stream",
          "name": "stderr",
          "text": [
            "Epoch 35: 100%|██████████| 70/70 [00:00<00:00, 110.95batch/s, accuracy=100, loss=0.00599]\n"
          ]
        },
        {
          "output_type": "stream",
          "name": "stdout",
          "text": [
            "Valid: Loss = 0.2014, Accuracy = 0.92\n",
            "\n"
          ]
        },
        {
          "output_type": "stream",
          "name": "stderr",
          "text": [
            "Epoch 36: 100%|██████████| 70/70 [00:00<00:00, 105.14batch/s, accuracy=100, loss=0.00562]\n"
          ]
        },
        {
          "output_type": "stream",
          "name": "stdout",
          "text": [
            "Valid: Loss = 0.2109, Accuracy = 0.9233\n",
            "\n"
          ]
        },
        {
          "output_type": "stream",
          "name": "stderr",
          "text": [
            "Epoch 37: 100%|██████████| 70/70 [00:00<00:00, 118.54batch/s, accuracy=100, loss=0.00531]\n"
          ]
        },
        {
          "output_type": "stream",
          "name": "stdout",
          "text": [
            "Valid: Loss = 0.2093, Accuracy = 0.925\n",
            "\n"
          ]
        },
        {
          "output_type": "stream",
          "name": "stderr",
          "text": [
            "Epoch 38: 100%|██████████| 70/70 [00:00<00:00, 119.35batch/s, accuracy=100, loss=0.00505]\n"
          ]
        },
        {
          "output_type": "stream",
          "name": "stdout",
          "text": [
            "Valid: Loss = 0.2209, Accuracy = 0.915\n",
            "\n"
          ]
        },
        {
          "output_type": "stream",
          "name": "stderr",
          "text": [
            "Epoch 39: 100%|██████████| 70/70 [00:00<00:00, 116.61batch/s, accuracy=100, loss=0.00507]\n"
          ]
        },
        {
          "output_type": "stream",
          "name": "stdout",
          "text": [
            "Valid: Loss = 0.2132, Accuracy = 0.92\n",
            "\n"
          ]
        },
        {
          "output_type": "stream",
          "name": "stderr",
          "text": [
            "Epoch 40: 100%|██████████| 70/70 [00:00<00:00, 125.56batch/s, accuracy=100, loss=0.00482]\n"
          ]
        },
        {
          "output_type": "stream",
          "name": "stdout",
          "text": [
            "Valid: Loss = 0.2173, Accuracy = 0.9183\n",
            "\n"
          ]
        },
        {
          "output_type": "stream",
          "name": "stderr",
          "text": [
            "Epoch 41: 100%|██████████| 70/70 [00:00<00:00, 113.71batch/s, accuracy=100, loss=0.00466]\n"
          ]
        },
        {
          "output_type": "stream",
          "name": "stdout",
          "text": [
            "Valid: Loss = 0.2091, Accuracy = 0.9217\n",
            "\n"
          ]
        },
        {
          "output_type": "stream",
          "name": "stderr",
          "text": [
            "Epoch 42: 100%|██████████| 70/70 [00:00<00:00, 117.85batch/s, accuracy=100, loss=0.0044]\n"
          ]
        },
        {
          "output_type": "stream",
          "name": "stdout",
          "text": [
            "Valid: Loss = 0.2195, Accuracy = 0.92\n",
            "\n"
          ]
        },
        {
          "output_type": "stream",
          "name": "stderr",
          "text": [
            "Epoch 43: 100%|██████████| 70/70 [00:00<00:00, 117.09batch/s, accuracy=100, loss=0.00408]\n"
          ]
        },
        {
          "output_type": "stream",
          "name": "stdout",
          "text": [
            "Valid: Loss = 0.2178, Accuracy = 0.9217\n",
            "\n"
          ]
        },
        {
          "output_type": "stream",
          "name": "stderr",
          "text": [
            "Epoch 44: 100%|██████████| 70/70 [00:00<00:00, 122.88batch/s, accuracy=100, loss=0.00401]\n"
          ]
        },
        {
          "output_type": "stream",
          "name": "stdout",
          "text": [
            "Valid: Loss = 0.2163, Accuracy = 0.92\n",
            "\n"
          ]
        },
        {
          "output_type": "stream",
          "name": "stderr",
          "text": [
            "Epoch 45: 100%|██████████| 70/70 [00:00<00:00, 126.73batch/s, accuracy=100, loss=0.00388]\n"
          ]
        },
        {
          "output_type": "stream",
          "name": "stdout",
          "text": [
            "Valid: Loss = 0.2233, Accuracy = 0.9217\n",
            "\n"
          ]
        },
        {
          "output_type": "stream",
          "name": "stderr",
          "text": [
            "Epoch 46: 100%|██████████| 70/70 [00:00<00:00, 123.21batch/s, accuracy=100, loss=0.00378]\n"
          ]
        },
        {
          "output_type": "stream",
          "name": "stdout",
          "text": [
            "Valid: Loss = 0.2213, Accuracy = 0.9183\n",
            "\n"
          ]
        },
        {
          "output_type": "stream",
          "name": "stderr",
          "text": [
            "Epoch 47: 100%|██████████| 70/70 [00:00<00:00, 119.52batch/s, accuracy=100, loss=0.00363]\n"
          ]
        },
        {
          "output_type": "stream",
          "name": "stdout",
          "text": [
            "Valid: Loss = 0.2262, Accuracy = 0.9183\n",
            "\n"
          ]
        },
        {
          "output_type": "stream",
          "name": "stderr",
          "text": [
            "Epoch 48: 100%|██████████| 70/70 [00:00<00:00, 126.15batch/s, accuracy=100, loss=0.00348]\n"
          ]
        },
        {
          "output_type": "stream",
          "name": "stdout",
          "text": [
            "Valid: Loss = 0.2243, Accuracy = 0.9233\n",
            "\n"
          ]
        },
        {
          "output_type": "stream",
          "name": "stderr",
          "text": [
            "Epoch 49: 100%|██████████| 70/70 [00:00<00:00, 115.02batch/s, accuracy=100, loss=0.00348]\n"
          ]
        },
        {
          "output_type": "stream",
          "name": "stdout",
          "text": [
            "Valid: Loss = 0.2216, Accuracy = 0.9217\n",
            "\n"
          ]
        },
        {
          "output_type": "stream",
          "name": "stderr",
          "text": [
            "Epoch 50: 100%|██████████| 70/70 [00:00<00:00, 114.05batch/s, accuracy=100, loss=0.00328]\n"
          ]
        },
        {
          "output_type": "stream",
          "name": "stdout",
          "text": [
            "Valid: Loss = 0.2219, Accuracy = 0.92\n",
            "\n"
          ]
        },
        {
          "output_type": "stream",
          "name": "stderr",
          "text": [
            "Epoch 51: 100%|██████████| 70/70 [00:00<00:00, 76.34batch/s, accuracy=100, loss=0.00325]\n"
          ]
        },
        {
          "output_type": "stream",
          "name": "stdout",
          "text": [
            "Valid: Loss = 0.224, Accuracy = 0.9167\n",
            "\n"
          ]
        },
        {
          "output_type": "stream",
          "name": "stderr",
          "text": [
            "Epoch 52: 100%|██████████| 70/70 [00:01<00:00, 46.07batch/s, accuracy=100, loss=0.00314]\n"
          ]
        },
        {
          "output_type": "stream",
          "name": "stdout",
          "text": [
            "Valid: Loss = 0.2282, Accuracy = 0.9217\n",
            "\n"
          ]
        },
        {
          "output_type": "stream",
          "name": "stderr",
          "text": [
            "Epoch 53: 100%|██████████| 70/70 [00:01<00:00, 47.92batch/s, accuracy=100, loss=0.00309]\n"
          ]
        },
        {
          "output_type": "stream",
          "name": "stdout",
          "text": [
            "Valid: Loss = 0.2257, Accuracy = 0.915\n",
            "\n"
          ]
        },
        {
          "output_type": "stream",
          "name": "stderr",
          "text": [
            "Epoch 54: 100%|██████████| 70/70 [00:02<00:00, 33.51batch/s, accuracy=100, loss=0.00298]\n"
          ]
        },
        {
          "output_type": "stream",
          "name": "stdout",
          "text": [
            "Valid: Loss = 0.2299, Accuracy = 0.9167\n",
            "\n"
          ]
        },
        {
          "output_type": "stream",
          "name": "stderr",
          "text": [
            "Epoch 55: 100%|██████████| 70/70 [00:01<00:00, 56.60batch/s, accuracy=100, loss=0.00292]\n"
          ]
        },
        {
          "output_type": "stream",
          "name": "stdout",
          "text": [
            "Valid: Loss = 0.2247, Accuracy = 0.9183\n",
            "\n"
          ]
        },
        {
          "output_type": "stream",
          "name": "stderr",
          "text": [
            "Epoch 56: 100%|██████████| 70/70 [00:01<00:00, 55.06batch/s, accuracy=100, loss=0.00284]\n"
          ]
        },
        {
          "output_type": "stream",
          "name": "stdout",
          "text": [
            "Valid: Loss = 0.23, Accuracy = 0.9183\n",
            "\n"
          ]
        },
        {
          "output_type": "stream",
          "name": "stderr",
          "text": [
            "Epoch 57: 100%|██████████| 70/70 [00:01<00:00, 51.88batch/s, accuracy=100, loss=0.00279]\n"
          ]
        },
        {
          "output_type": "stream",
          "name": "stdout",
          "text": [
            "Valid: Loss = 0.2299, Accuracy = 0.92\n",
            "\n"
          ]
        },
        {
          "output_type": "stream",
          "name": "stderr",
          "text": [
            "Epoch 58: 100%|██████████| 70/70 [00:01<00:00, 51.93batch/s, accuracy=100, loss=0.0027]\n"
          ]
        },
        {
          "output_type": "stream",
          "name": "stdout",
          "text": [
            "Valid: Loss = 0.2303, Accuracy = 0.9167\n",
            "\n"
          ]
        },
        {
          "output_type": "stream",
          "name": "stderr",
          "text": [
            "Epoch 59: 100%|██████████| 70/70 [00:01<00:00, 41.48batch/s, accuracy=100, loss=0.00266]\n"
          ]
        },
        {
          "output_type": "stream",
          "name": "stdout",
          "text": [
            "Valid: Loss = 0.2283, Accuracy = 0.9183\n",
            "\n"
          ]
        },
        {
          "output_type": "stream",
          "name": "stderr",
          "text": [
            "Epoch 60: 100%|██████████| 70/70 [00:01<00:00, 59.18batch/s, accuracy=100, loss=0.00262]\n"
          ]
        },
        {
          "output_type": "stream",
          "name": "stdout",
          "text": [
            "Valid: Loss = 0.2308, Accuracy = 0.9183\n",
            "\n"
          ]
        },
        {
          "output_type": "stream",
          "name": "stderr",
          "text": [
            "Epoch 61: 100%|██████████| 70/70 [00:01<00:00, 50.18batch/s, accuracy=100, loss=0.00249]\n"
          ]
        },
        {
          "output_type": "stream",
          "name": "stdout",
          "text": [
            "Valid: Loss = 0.2313, Accuracy = 0.92\n",
            "\n"
          ]
        },
        {
          "output_type": "stream",
          "name": "stderr",
          "text": [
            "Epoch 62: 100%|██████████| 70/70 [00:01<00:00, 52.24batch/s, accuracy=100, loss=0.00247]\n"
          ]
        },
        {
          "output_type": "stream",
          "name": "stdout",
          "text": [
            "Valid: Loss = 0.2315, Accuracy = 0.9167\n",
            "\n"
          ]
        },
        {
          "output_type": "stream",
          "name": "stderr",
          "text": [
            "Epoch 63: 100%|██████████| 70/70 [00:01<00:00, 40.48batch/s, accuracy=100, loss=0.00241]\n"
          ]
        },
        {
          "output_type": "stream",
          "name": "stdout",
          "text": [
            "Valid: Loss = 0.2301, Accuracy = 0.92\n",
            "\n"
          ]
        },
        {
          "output_type": "stream",
          "name": "stderr",
          "text": [
            "Epoch 64: 100%|██████████| 70/70 [00:01<00:00, 43.98batch/s, accuracy=100, loss=0.00242]\n"
          ]
        },
        {
          "output_type": "stream",
          "name": "stdout",
          "text": [
            "Valid: Loss = 0.2297, Accuracy = 0.9183\n",
            "\n"
          ]
        },
        {
          "output_type": "stream",
          "name": "stderr",
          "text": [
            "Epoch 65: 100%|██████████| 70/70 [00:01<00:00, 36.38batch/s, accuracy=100, loss=0.00233]\n"
          ]
        },
        {
          "output_type": "stream",
          "name": "stdout",
          "text": [
            "Valid: Loss = 0.2295, Accuracy = 0.92\n",
            "\n"
          ]
        },
        {
          "output_type": "stream",
          "name": "stderr",
          "text": [
            "Epoch 66: 100%|██████████| 70/70 [00:00<00:00, 108.81batch/s, accuracy=100, loss=0.0023]\n"
          ]
        },
        {
          "output_type": "stream",
          "name": "stdout",
          "text": [
            "Valid: Loss = 0.2314, Accuracy = 0.9167\n",
            "\n"
          ]
        },
        {
          "output_type": "stream",
          "name": "stderr",
          "text": [
            "Epoch 67: 100%|██████████| 70/70 [00:00<00:00, 119.00batch/s, accuracy=100, loss=0.00227]\n"
          ]
        },
        {
          "output_type": "stream",
          "name": "stdout",
          "text": [
            "Valid: Loss = 0.2319, Accuracy = 0.92\n",
            "\n"
          ]
        },
        {
          "output_type": "stream",
          "name": "stderr",
          "text": [
            "Epoch 68: 100%|██████████| 70/70 [00:00<00:00, 118.54batch/s, accuracy=100, loss=0.00223]\n"
          ]
        },
        {
          "output_type": "stream",
          "name": "stdout",
          "text": [
            "Valid: Loss = 0.2313, Accuracy = 0.9167\n",
            "\n"
          ]
        },
        {
          "output_type": "stream",
          "name": "stderr",
          "text": [
            "Epoch 69: 100%|██████████| 70/70 [00:00<00:00, 79.86batch/s, accuracy=100, loss=0.00215]\n"
          ]
        },
        {
          "output_type": "stream",
          "name": "stdout",
          "text": [
            "Valid: Loss = 0.2365, Accuracy = 0.915\n",
            "\n"
          ]
        },
        {
          "output_type": "stream",
          "name": "stderr",
          "text": [
            "Epoch 70: 100%|██████████| 70/70 [00:01<00:00, 44.13batch/s, accuracy=100, loss=0.00216]\n"
          ]
        },
        {
          "output_type": "stream",
          "name": "stdout",
          "text": [
            "Valid: Loss = 0.2316, Accuracy = 0.92\n",
            "\n"
          ]
        },
        {
          "output_type": "stream",
          "name": "stderr",
          "text": [
            "Epoch 71: 100%|██████████| 70/70 [00:01<00:00, 44.51batch/s, accuracy=100, loss=0.0021]\n"
          ]
        },
        {
          "output_type": "stream",
          "name": "stdout",
          "text": [
            "Valid: Loss = 0.236, Accuracy = 0.9183\n",
            "\n"
          ]
        },
        {
          "output_type": "stream",
          "name": "stderr",
          "text": [
            "Epoch 72: 100%|██████████| 70/70 [00:01<00:00, 50.54batch/s, accuracy=100, loss=0.00207]\n"
          ]
        },
        {
          "output_type": "stream",
          "name": "stdout",
          "text": [
            "Valid: Loss = 0.2349, Accuracy = 0.9167\n",
            "\n"
          ]
        },
        {
          "output_type": "stream",
          "name": "stderr",
          "text": [
            "Epoch 73: 100%|██████████| 70/70 [00:00<00:00, 74.96batch/s, accuracy=100, loss=0.002]\n"
          ]
        },
        {
          "output_type": "stream",
          "name": "stdout",
          "text": [
            "Valid: Loss = 0.2344, Accuracy = 0.915\n",
            "\n"
          ]
        },
        {
          "output_type": "stream",
          "name": "stderr",
          "text": [
            "Epoch 74: 100%|██████████| 70/70 [00:00<00:00, 82.64batch/s, accuracy=100, loss=0.00203]\n"
          ]
        },
        {
          "output_type": "stream",
          "name": "stdout",
          "text": [
            "Valid: Loss = 0.2378, Accuracy = 0.9167\n",
            "\n"
          ]
        },
        {
          "output_type": "stream",
          "name": "stderr",
          "text": [
            "Epoch 75: 100%|██████████| 70/70 [00:01<00:00, 65.51batch/s, accuracy=100, loss=0.00199]\n"
          ]
        },
        {
          "output_type": "stream",
          "name": "stdout",
          "text": [
            "Valid: Loss = 0.2367, Accuracy = 0.9167\n",
            "\n"
          ]
        },
        {
          "output_type": "stream",
          "name": "stderr",
          "text": [
            "Epoch 76: 100%|██████████| 70/70 [00:01<00:00, 52.26batch/s, accuracy=100, loss=0.00192]\n"
          ]
        },
        {
          "output_type": "stream",
          "name": "stdout",
          "text": [
            "Valid: Loss = 0.2368, Accuracy = 0.9167\n",
            "\n"
          ]
        },
        {
          "output_type": "stream",
          "name": "stderr",
          "text": [
            "Epoch 77: 100%|██████████| 70/70 [00:01<00:00, 65.38batch/s, accuracy=100, loss=0.00193]\n"
          ]
        },
        {
          "output_type": "stream",
          "name": "stdout",
          "text": [
            "Valid: Loss = 0.2366, Accuracy = 0.9183\n",
            "\n"
          ]
        },
        {
          "output_type": "stream",
          "name": "stderr",
          "text": [
            "Epoch 78: 100%|██████████| 70/70 [00:00<00:00, 100.07batch/s, accuracy=100, loss=0.00188]\n"
          ]
        },
        {
          "output_type": "stream",
          "name": "stdout",
          "text": [
            "Valid: Loss = 0.239, Accuracy = 0.915\n",
            "\n"
          ]
        },
        {
          "output_type": "stream",
          "name": "stderr",
          "text": [
            "Epoch 79: 100%|██████████| 70/70 [00:00<00:00, 112.10batch/s, accuracy=100, loss=0.00186]\n"
          ]
        },
        {
          "output_type": "stream",
          "name": "stdout",
          "text": [
            "Valid: Loss = 0.2383, Accuracy = 0.9183\n",
            "\n"
          ]
        },
        {
          "output_type": "stream",
          "name": "stderr",
          "text": [
            "Epoch 80: 100%|██████████| 70/70 [00:00<00:00, 106.16batch/s, accuracy=100, loss=0.00185]\n"
          ]
        },
        {
          "output_type": "stream",
          "name": "stdout",
          "text": [
            "Valid: Loss = 0.2388, Accuracy = 0.9183\n",
            "\n"
          ]
        },
        {
          "output_type": "stream",
          "name": "stderr",
          "text": [
            "Epoch 81: 100%|██████████| 70/70 [00:00<00:00, 121.02batch/s, accuracy=100, loss=0.00182]\n"
          ]
        },
        {
          "output_type": "stream",
          "name": "stdout",
          "text": [
            "Valid: Loss = 0.2392, Accuracy = 0.915\n",
            "\n"
          ]
        },
        {
          "output_type": "stream",
          "name": "stderr",
          "text": [
            "Epoch 82: 100%|██████████| 70/70 [00:00<00:00, 120.95batch/s, accuracy=100, loss=0.00179]\n"
          ]
        },
        {
          "output_type": "stream",
          "name": "stdout",
          "text": [
            "Valid: Loss = 0.239, Accuracy = 0.9183\n",
            "\n"
          ]
        },
        {
          "output_type": "stream",
          "name": "stderr",
          "text": [
            "Epoch 83: 100%|██████████| 70/70 [00:00<00:00, 119.10batch/s, accuracy=100, loss=0.00177]\n"
          ]
        },
        {
          "output_type": "stream",
          "name": "stdout",
          "text": [
            "Valid: Loss = 0.2395, Accuracy = 0.9167\n",
            "\n"
          ]
        },
        {
          "output_type": "stream",
          "name": "stderr",
          "text": [
            "Epoch 84: 100%|██████████| 70/70 [00:00<00:00, 121.05batch/s, accuracy=100, loss=0.00174]\n"
          ]
        },
        {
          "output_type": "stream",
          "name": "stdout",
          "text": [
            "Valid: Loss = 0.2416, Accuracy = 0.9133\n",
            "\n"
          ]
        },
        {
          "output_type": "stream",
          "name": "stderr",
          "text": [
            "Epoch 85: 100%|██████████| 70/70 [00:00<00:00, 127.32batch/s, accuracy=100, loss=0.00173]\n"
          ]
        },
        {
          "output_type": "stream",
          "name": "stdout",
          "text": [
            "Valid: Loss = 0.2424, Accuracy = 0.9183\n",
            "\n"
          ]
        },
        {
          "output_type": "stream",
          "name": "stderr",
          "text": [
            "Epoch 86: 100%|██████████| 70/70 [00:00<00:00, 115.69batch/s, accuracy=100, loss=0.00172]\n"
          ]
        },
        {
          "output_type": "stream",
          "name": "stdout",
          "text": [
            "Valid: Loss = 0.2414, Accuracy = 0.915\n",
            "\n"
          ]
        },
        {
          "output_type": "stream",
          "name": "stderr",
          "text": [
            "Epoch 87: 100%|██████████| 70/70 [00:01<00:00, 62.78batch/s, accuracy=100, loss=0.00169]\n"
          ]
        },
        {
          "output_type": "stream",
          "name": "stdout",
          "text": [
            "Valid: Loss = 0.2403, Accuracy = 0.9183\n",
            "\n"
          ]
        },
        {
          "output_type": "stream",
          "name": "stderr",
          "text": [
            "Epoch 88: 100%|██████████| 70/70 [00:01<00:00, 61.97batch/s, accuracy=100, loss=0.00166]\n"
          ]
        },
        {
          "output_type": "stream",
          "name": "stdout",
          "text": [
            "Valid: Loss = 0.2414, Accuracy = 0.9183\n",
            "\n"
          ]
        },
        {
          "output_type": "stream",
          "name": "stderr",
          "text": [
            "Epoch 89: 100%|██████████| 70/70 [00:01<00:00, 57.39batch/s, accuracy=100, loss=0.00162]\n"
          ]
        },
        {
          "output_type": "stream",
          "name": "stdout",
          "text": [
            "Valid: Loss = 0.24, Accuracy = 0.9167\n",
            "\n"
          ]
        },
        {
          "output_type": "stream",
          "name": "stderr",
          "text": [
            "Epoch 90: 100%|██████████| 70/70 [00:00<00:00, 74.91batch/s, accuracy=100, loss=0.00163]\n"
          ]
        },
        {
          "output_type": "stream",
          "name": "stdout",
          "text": [
            "Valid: Loss = 0.2434, Accuracy = 0.9167\n",
            "\n"
          ]
        },
        {
          "output_type": "stream",
          "name": "stderr",
          "text": [
            "Epoch 91: 100%|██████████| 70/70 [00:00<00:00, 106.92batch/s, accuracy=100, loss=0.00162]\n"
          ]
        },
        {
          "output_type": "stream",
          "name": "stdout",
          "text": [
            "Valid: Loss = 0.2438, Accuracy = 0.92\n",
            "\n"
          ]
        },
        {
          "output_type": "stream",
          "name": "stderr",
          "text": [
            "Epoch 92: 100%|██████████| 70/70 [00:00<00:00, 105.43batch/s, accuracy=100, loss=0.0016]\n"
          ]
        },
        {
          "output_type": "stream",
          "name": "stdout",
          "text": [
            "Valid: Loss = 0.243, Accuracy = 0.915\n",
            "\n"
          ]
        },
        {
          "output_type": "stream",
          "name": "stderr",
          "text": [
            "Epoch 93: 100%|██████████| 70/70 [00:00<00:00, 117.04batch/s, accuracy=100, loss=0.0016]\n"
          ]
        },
        {
          "output_type": "stream",
          "name": "stdout",
          "text": [
            "Valid: Loss = 0.2456, Accuracy = 0.9167\n",
            "\n"
          ]
        },
        {
          "output_type": "stream",
          "name": "stderr",
          "text": [
            "Epoch 94: 100%|██████████| 70/70 [00:00<00:00, 123.78batch/s, accuracy=100, loss=0.00156]\n"
          ]
        },
        {
          "output_type": "stream",
          "name": "stdout",
          "text": [
            "Valid: Loss = 0.2437, Accuracy = 0.92\n",
            "\n"
          ]
        },
        {
          "output_type": "stream",
          "name": "stderr",
          "text": [
            "Epoch 95: 100%|██████████| 70/70 [00:00<00:00, 115.40batch/s, accuracy=100, loss=0.00155]\n"
          ]
        },
        {
          "output_type": "stream",
          "name": "stdout",
          "text": [
            "Valid: Loss = 0.2424, Accuracy = 0.9183\n",
            "\n"
          ]
        },
        {
          "output_type": "stream",
          "name": "stderr",
          "text": [
            "Epoch 96: 100%|██████████| 70/70 [00:00<00:00, 116.70batch/s, accuracy=100, loss=0.00155]\n"
          ]
        },
        {
          "output_type": "stream",
          "name": "stdout",
          "text": [
            "Valid: Loss = 0.2421, Accuracy = 0.9183\n",
            "\n"
          ]
        },
        {
          "output_type": "stream",
          "name": "stderr",
          "text": [
            "Epoch 97: 100%|██████████| 70/70 [00:00<00:00, 116.88batch/s, accuracy=100, loss=0.00151]\n"
          ]
        },
        {
          "output_type": "stream",
          "name": "stdout",
          "text": [
            "Valid: Loss = 0.2436, Accuracy = 0.915\n",
            "\n"
          ]
        },
        {
          "output_type": "stream",
          "name": "stderr",
          "text": [
            "Epoch 98: 100%|██████████| 70/70 [00:00<00:00, 70.67batch/s, accuracy=100, loss=0.0015]\n"
          ]
        },
        {
          "output_type": "stream",
          "name": "stdout",
          "text": [
            "Valid: Loss = 0.2443, Accuracy = 0.9183\n",
            "\n"
          ]
        },
        {
          "output_type": "stream",
          "name": "stderr",
          "text": [
            "Epoch 99: 100%|██████████| 70/70 [00:01<00:00, 68.44batch/s, accuracy=100, loss=0.00148]\n"
          ]
        },
        {
          "output_type": "stream",
          "name": "stdout",
          "text": [
            "Valid: Loss = 0.2445, Accuracy = 0.92\n",
            "\n"
          ]
        }
      ]
    },
    {
      "cell_type": "code",
      "source": [
        "num_epochs = 100\n",
        "\n",
        "loss_train_hist = []\n",
        "loss_valid_hist = []\n",
        "\n",
        "acc_train_hist = []\n",
        "acc_valid_hist = []\n",
        "\n",
        "for epoch in range(num_epochs):\n",
        "  model, loss_train, acc_train = train_one_epoch(model,\n",
        "                                                 train_loader,\n",
        "                                                 loss_fn,\n",
        "                                                 optimizer,\n",
        "                                                 epoch)\n",
        "\n",
        "  loss_valid, acc_valid = evaluate(model,\n",
        "                                   valid_loader,\n",
        "                                   loss_fn)\n",
        "\n",
        "  loss_train_hist.append(loss_train)\n",
        "  loss_valid_hist.append(loss_valid)\n",
        "\n",
        "  acc_train_hist.append(acc_train)\n",
        "  acc_valid_hist.append(acc_valid)\n",
        "\n",
        "  print(f'Valid: Loss={loss_valid:.4}, Accuracy={acc_valid:.4}\\n')"
      ],
      "metadata": {
        "id": "3Xj6jXkuN4rd",
        "colab": {
          "base_uri": "https://localhost:8080/"
        },
        "outputId": "1d579610-b60c-47d1-dbb9-b61daaef07a8"
      },
      "execution_count": null,
      "outputs": [
        {
          "output_type": "stream",
          "name": "stderr",
          "text": [
            "Epoch 0: 100%|██████████| 70/70 [00:00<00:00, 92.56batch/s, accuracy=48.6, loss=1.29]\n"
          ]
        },
        {
          "output_type": "stream",
          "name": "stdout",
          "text": [
            "Valid: Loss=1.08, Accuracy=0.665\n",
            "\n"
          ]
        },
        {
          "output_type": "stream",
          "name": "stderr",
          "text": [
            "Epoch 1: 100%|██████████| 70/70 [00:00<00:00, 86.90batch/s, accuracy=74.3, loss=0.753]\n"
          ]
        },
        {
          "output_type": "stream",
          "name": "stdout",
          "text": [
            "Valid: Loss=0.5165, Accuracy=0.8183\n",
            "\n"
          ]
        },
        {
          "output_type": "stream",
          "name": "stderr",
          "text": [
            "Epoch 2: 100%|██████████| 70/70 [00:00<00:00, 88.29batch/s, accuracy=87.9, loss=0.404]\n"
          ]
        },
        {
          "output_type": "stream",
          "name": "stdout",
          "text": [
            "Valid: Loss=0.3183, Accuracy=0.9033\n",
            "\n"
          ]
        },
        {
          "output_type": "stream",
          "name": "stderr",
          "text": [
            "Epoch 3: 100%|██████████| 70/70 [00:00<00:00, 98.93batch/s, accuracy=93.3, loss=0.257]\n"
          ]
        },
        {
          "output_type": "stream",
          "name": "stdout",
          "text": [
            "Valid: Loss=0.2408, Accuracy=0.9133\n",
            "\n"
          ]
        },
        {
          "output_type": "stream",
          "name": "stderr",
          "text": [
            "Epoch 4: 100%|██████████| 70/70 [00:00<00:00, 90.38batch/s, accuracy=94.2, loss=0.193]\n"
          ]
        },
        {
          "output_type": "stream",
          "name": "stdout",
          "text": [
            "Valid: Loss=0.2114, Accuracy=0.915\n",
            "\n"
          ]
        },
        {
          "output_type": "stream",
          "name": "stderr",
          "text": [
            "Epoch 5: 100%|██████████| 70/70 [00:00<00:00, 90.01batch/s, accuracy=96.1, loss=0.148]\n"
          ]
        },
        {
          "output_type": "stream",
          "name": "stdout",
          "text": [
            "Valid: Loss=0.2005, Accuracy=0.91\n",
            "\n"
          ]
        },
        {
          "output_type": "stream",
          "name": "stderr",
          "text": [
            "Epoch 6: 100%|██████████| 70/70 [00:00<00:00, 98.69batch/s, accuracy=96.4, loss=0.129]\n"
          ]
        },
        {
          "output_type": "stream",
          "name": "stdout",
          "text": [
            "Valid: Loss=0.2112, Accuracy=0.9033\n",
            "\n"
          ]
        },
        {
          "output_type": "stream",
          "name": "stderr",
          "text": [
            "Epoch 7: 100%|██████████| 70/70 [00:00<00:00, 93.45batch/s, accuracy=96.8, loss=0.108]\n"
          ]
        },
        {
          "output_type": "stream",
          "name": "stdout",
          "text": [
            "Valid: Loss=0.1696, Accuracy=0.9217\n",
            "\n"
          ]
        },
        {
          "output_type": "stream",
          "name": "stderr",
          "text": [
            "Epoch 8: 100%|██████████| 70/70 [00:00<00:00, 95.39batch/s, accuracy=98.1, loss=0.0861]\n"
          ]
        },
        {
          "output_type": "stream",
          "name": "stdout",
          "text": [
            "Valid: Loss=0.1772, Accuracy=0.9283\n",
            "\n"
          ]
        },
        {
          "output_type": "stream",
          "name": "stderr",
          "text": [
            "Epoch 9: 100%|██████████| 70/70 [00:00<00:00, 97.70batch/s, accuracy=98, loss=0.0762]\n"
          ]
        },
        {
          "output_type": "stream",
          "name": "stdout",
          "text": [
            "Valid: Loss=0.1811, Accuracy=0.9067\n",
            "\n"
          ]
        },
        {
          "output_type": "stream",
          "name": "stderr",
          "text": [
            "Epoch 10: 100%|██████████| 70/70 [00:00<00:00, 92.74batch/s, accuracy=98.4, loss=0.0675]\n"
          ]
        },
        {
          "output_type": "stream",
          "name": "stdout",
          "text": [
            "Valid: Loss=0.1855, Accuracy=0.9167\n",
            "\n"
          ]
        },
        {
          "output_type": "stream",
          "name": "stderr",
          "text": [
            "Epoch 11: 100%|██████████| 70/70 [00:00<00:00, 94.18batch/s, accuracy=98.8, loss=0.061]\n"
          ]
        },
        {
          "output_type": "stream",
          "name": "stdout",
          "text": [
            "Valid: Loss=0.193, Accuracy=0.9167\n",
            "\n"
          ]
        },
        {
          "output_type": "stream",
          "name": "stderr",
          "text": [
            "Epoch 12: 100%|██████████| 70/70 [00:00<00:00, 96.68batch/s, accuracy=99.1, loss=0.0538]\n"
          ]
        },
        {
          "output_type": "stream",
          "name": "stdout",
          "text": [
            "Valid: Loss=0.1734, Accuracy=0.9183\n",
            "\n"
          ]
        },
        {
          "output_type": "stream",
          "name": "stderr",
          "text": [
            "Epoch 13: 100%|██████████| 70/70 [00:00<00:00, 97.58batch/s, accuracy=99.4, loss=0.0421]\n"
          ]
        },
        {
          "output_type": "stream",
          "name": "stdout",
          "text": [
            "Valid: Loss=0.1884, Accuracy=0.92\n",
            "\n"
          ]
        },
        {
          "output_type": "stream",
          "name": "stderr",
          "text": [
            "Epoch 14: 100%|██████████| 70/70 [00:00<00:00, 94.48batch/s, accuracy=99.4, loss=0.0407]\n"
          ]
        },
        {
          "output_type": "stream",
          "name": "stdout",
          "text": [
            "Valid: Loss=0.1722, Accuracy=0.92\n",
            "\n"
          ]
        },
        {
          "output_type": "stream",
          "name": "stderr",
          "text": [
            "Epoch 15: 100%|██████████| 70/70 [00:00<00:00, 95.23batch/s, accuracy=99.9, loss=0.0322]\n"
          ]
        },
        {
          "output_type": "stream",
          "name": "stdout",
          "text": [
            "Valid: Loss=0.1796, Accuracy=0.9233\n",
            "\n"
          ]
        },
        {
          "output_type": "stream",
          "name": "stderr",
          "text": [
            "Epoch 16: 100%|██████████| 70/70 [00:00<00:00, 101.84batch/s, accuracy=99.9, loss=0.0298]\n"
          ]
        },
        {
          "output_type": "stream",
          "name": "stdout",
          "text": [
            "Valid: Loss=0.1743, Accuracy=0.93\n",
            "\n"
          ]
        },
        {
          "output_type": "stream",
          "name": "stderr",
          "text": [
            "Epoch 17: 100%|██████████| 70/70 [00:00<00:00, 99.79batch/s, accuracy=100, loss=0.025]\n"
          ]
        },
        {
          "output_type": "stream",
          "name": "stdout",
          "text": [
            "Valid: Loss=0.1739, Accuracy=0.92\n",
            "\n"
          ]
        },
        {
          "output_type": "stream",
          "name": "stderr",
          "text": [
            "Epoch 18: 100%|██████████| 70/70 [00:00<00:00, 83.89batch/s, accuracy=100, loss=0.022]\n"
          ]
        },
        {
          "output_type": "stream",
          "name": "stdout",
          "text": [
            "Valid: Loss=0.1738, Accuracy=0.9183\n",
            "\n"
          ]
        },
        {
          "output_type": "stream",
          "name": "stderr",
          "text": [
            "Epoch 19: 100%|██████████| 70/70 [00:00<00:00, 96.67batch/s, accuracy=99.8, loss=0.0194]\n"
          ]
        },
        {
          "output_type": "stream",
          "name": "stdout",
          "text": [
            "Valid: Loss=0.1783, Accuracy=0.9217\n",
            "\n"
          ]
        },
        {
          "output_type": "stream",
          "name": "stderr",
          "text": [
            "Epoch 20: 100%|██████████| 70/70 [00:00<00:00, 102.58batch/s, accuracy=100, loss=0.0159]\n"
          ]
        },
        {
          "output_type": "stream",
          "name": "stdout",
          "text": [
            "Valid: Loss=0.1844, Accuracy=0.915\n",
            "\n"
          ]
        },
        {
          "output_type": "stream",
          "name": "stderr",
          "text": [
            "Epoch 21: 100%|██████████| 70/70 [00:00<00:00, 94.26batch/s, accuracy=100, loss=0.015]\n"
          ]
        },
        {
          "output_type": "stream",
          "name": "stdout",
          "text": [
            "Valid: Loss=0.1936, Accuracy=0.91\n",
            "\n"
          ]
        },
        {
          "output_type": "stream",
          "name": "stderr",
          "text": [
            "Epoch 22: 100%|██████████| 70/70 [00:00<00:00, 89.96batch/s, accuracy=100, loss=0.0143]\n"
          ]
        },
        {
          "output_type": "stream",
          "name": "stdout",
          "text": [
            "Valid: Loss=0.183, Accuracy=0.9233\n",
            "\n"
          ]
        },
        {
          "output_type": "stream",
          "name": "stderr",
          "text": [
            "Epoch 23: 100%|██████████| 70/70 [00:00<00:00, 85.78batch/s, accuracy=100, loss=0.012]\n"
          ]
        },
        {
          "output_type": "stream",
          "name": "stdout",
          "text": [
            "Valid: Loss=0.1835, Accuracy=0.9217\n",
            "\n"
          ]
        },
        {
          "output_type": "stream",
          "name": "stderr",
          "text": [
            "Epoch 24: 100%|██████████| 70/70 [00:00<00:00, 100.96batch/s, accuracy=100, loss=0.012]\n"
          ]
        },
        {
          "output_type": "stream",
          "name": "stdout",
          "text": [
            "Valid: Loss=0.1877, Accuracy=0.925\n",
            "\n"
          ]
        },
        {
          "output_type": "stream",
          "name": "stderr",
          "text": [
            "Epoch 25: 100%|██████████| 70/70 [00:00<00:00, 100.47batch/s, accuracy=100, loss=0.011]\n"
          ]
        },
        {
          "output_type": "stream",
          "name": "stdout",
          "text": [
            "Valid: Loss=0.1969, Accuracy=0.9117\n",
            "\n"
          ]
        },
        {
          "output_type": "stream",
          "name": "stderr",
          "text": [
            "Epoch 26: 100%|██████████| 70/70 [00:00<00:00, 90.15batch/s, accuracy=100, loss=0.0099]\n"
          ]
        },
        {
          "output_type": "stream",
          "name": "stdout",
          "text": [
            "Valid: Loss=0.1881, Accuracy=0.9167\n",
            "\n"
          ]
        },
        {
          "output_type": "stream",
          "name": "stderr",
          "text": [
            "Epoch 27: 100%|██████████| 70/70 [00:00<00:00, 98.67batch/s, accuracy=100, loss=0.00889]\n"
          ]
        },
        {
          "output_type": "stream",
          "name": "stdout",
          "text": [
            "Valid: Loss=0.1871, Accuracy=0.9233\n",
            "\n"
          ]
        },
        {
          "output_type": "stream",
          "name": "stderr",
          "text": [
            "Epoch 28: 100%|██████████| 70/70 [00:00<00:00, 100.79batch/s, accuracy=100, loss=0.00861]\n"
          ]
        },
        {
          "output_type": "stream",
          "name": "stdout",
          "text": [
            "Valid: Loss=0.1934, Accuracy=0.9217\n",
            "\n"
          ]
        },
        {
          "output_type": "stream",
          "name": "stderr",
          "text": [
            "Epoch 29: 100%|██████████| 70/70 [00:00<00:00, 99.67batch/s, accuracy=100, loss=0.00799]\n"
          ]
        },
        {
          "output_type": "stream",
          "name": "stdout",
          "text": [
            "Valid: Loss=0.1904, Accuracy=0.9217\n",
            "\n"
          ]
        },
        {
          "output_type": "stream",
          "name": "stderr",
          "text": [
            "Epoch 30: 100%|██████████| 70/70 [00:00<00:00, 86.58batch/s, accuracy=100, loss=0.00733]\n"
          ]
        },
        {
          "output_type": "stream",
          "name": "stdout",
          "text": [
            "Valid: Loss=0.1891, Accuracy=0.92\n",
            "\n"
          ]
        },
        {
          "output_type": "stream",
          "name": "stderr",
          "text": [
            "Epoch 31: 100%|██████████| 70/70 [00:00<00:00, 90.03batch/s, accuracy=100, loss=0.00705]\n"
          ]
        },
        {
          "output_type": "stream",
          "name": "stdout",
          "text": [
            "Valid: Loss=0.2034, Accuracy=0.9217\n",
            "\n"
          ]
        },
        {
          "output_type": "stream",
          "name": "stderr",
          "text": [
            "Epoch 32: 100%|██████████| 70/70 [00:00<00:00, 93.03batch/s, accuracy=100, loss=0.00657]\n"
          ]
        },
        {
          "output_type": "stream",
          "name": "stdout",
          "text": [
            "Valid: Loss=0.1922, Accuracy=0.925\n",
            "\n"
          ]
        },
        {
          "output_type": "stream",
          "name": "stderr",
          "text": [
            "Epoch 33: 100%|██████████| 70/70 [00:00<00:00, 92.41batch/s, accuracy=100, loss=0.00614]\n"
          ]
        },
        {
          "output_type": "stream",
          "name": "stdout",
          "text": [
            "Valid: Loss=0.2002, Accuracy=0.9167\n",
            "\n"
          ]
        },
        {
          "output_type": "stream",
          "name": "stderr",
          "text": [
            "Epoch 34: 100%|██████████| 70/70 [00:00<00:00, 94.82batch/s, accuracy=100, loss=0.00584]\n"
          ]
        },
        {
          "output_type": "stream",
          "name": "stdout",
          "text": [
            "Valid: Loss=0.1995, Accuracy=0.9183\n",
            "\n"
          ]
        },
        {
          "output_type": "stream",
          "name": "stderr",
          "text": [
            "Epoch 35: 100%|██████████| 70/70 [00:00<00:00, 100.04batch/s, accuracy=100, loss=0.00563]\n"
          ]
        },
        {
          "output_type": "stream",
          "name": "stdout",
          "text": [
            "Valid: Loss=0.1955, Accuracy=0.9217\n",
            "\n"
          ]
        },
        {
          "output_type": "stream",
          "name": "stderr",
          "text": [
            "Epoch 36: 100%|██████████| 70/70 [00:00<00:00, 95.83batch/s, accuracy=100, loss=0.00531]\n"
          ]
        },
        {
          "output_type": "stream",
          "name": "stdout",
          "text": [
            "Valid: Loss=0.204, Accuracy=0.9217\n",
            "\n"
          ]
        },
        {
          "output_type": "stream",
          "name": "stderr",
          "text": [
            "Epoch 37: 100%|██████████| 70/70 [00:00<00:00, 96.30batch/s, accuracy=100, loss=0.00504]\n"
          ]
        },
        {
          "output_type": "stream",
          "name": "stdout",
          "text": [
            "Valid: Loss=0.1996, Accuracy=0.9233\n",
            "\n"
          ]
        },
        {
          "output_type": "stream",
          "name": "stderr",
          "text": [
            "Epoch 38: 100%|██████████| 70/70 [00:00<00:00, 90.19batch/s, accuracy=100, loss=0.00483]\n"
          ]
        },
        {
          "output_type": "stream",
          "name": "stdout",
          "text": [
            "Valid: Loss=0.2007, Accuracy=0.9217\n",
            "\n"
          ]
        },
        {
          "output_type": "stream",
          "name": "stderr",
          "text": [
            "Epoch 39: 100%|██████████| 70/70 [00:00<00:00, 91.19batch/s, accuracy=100, loss=0.00469]\n"
          ]
        },
        {
          "output_type": "stream",
          "name": "stdout",
          "text": [
            "Valid: Loss=0.2071, Accuracy=0.9217\n",
            "\n"
          ]
        },
        {
          "output_type": "stream",
          "name": "stderr",
          "text": [
            "Epoch 40: 100%|██████████| 70/70 [00:00<00:00, 95.17batch/s, accuracy=100, loss=0.00447]\n"
          ]
        },
        {
          "output_type": "stream",
          "name": "stdout",
          "text": [
            "Valid: Loss=0.2019, Accuracy=0.92\n",
            "\n"
          ]
        },
        {
          "output_type": "stream",
          "name": "stderr",
          "text": [
            "Epoch 41: 100%|██████████| 70/70 [00:00<00:00, 98.28batch/s, accuracy=100, loss=0.00427]\n"
          ]
        },
        {
          "output_type": "stream",
          "name": "stdout",
          "text": [
            "Valid: Loss=0.2004, Accuracy=0.9217\n",
            "\n"
          ]
        },
        {
          "output_type": "stream",
          "name": "stderr",
          "text": [
            "Epoch 42: 100%|██████████| 70/70 [00:00<00:00, 87.89batch/s, accuracy=100, loss=0.00423]\n"
          ]
        },
        {
          "output_type": "stream",
          "name": "stdout",
          "text": [
            "Valid: Loss=0.2095, Accuracy=0.9167\n",
            "\n"
          ]
        },
        {
          "output_type": "stream",
          "name": "stderr",
          "text": [
            "Epoch 43: 100%|██████████| 70/70 [00:00<00:00, 87.86batch/s, accuracy=100, loss=0.00404]\n"
          ]
        },
        {
          "output_type": "stream",
          "name": "stdout",
          "text": [
            "Valid: Loss=0.2049, Accuracy=0.9183\n",
            "\n"
          ]
        },
        {
          "output_type": "stream",
          "name": "stderr",
          "text": [
            "Epoch 44: 100%|██████████| 70/70 [00:01<00:00, 59.61batch/s, accuracy=100, loss=0.00385]\n"
          ]
        },
        {
          "output_type": "stream",
          "name": "stdout",
          "text": [
            "Valid: Loss=0.2078, Accuracy=0.915\n",
            "\n"
          ]
        },
        {
          "output_type": "stream",
          "name": "stderr",
          "text": [
            "Epoch 45: 100%|██████████| 70/70 [00:00<00:00, 98.10batch/s, accuracy=100, loss=0.00386]\n"
          ]
        },
        {
          "output_type": "stream",
          "name": "stdout",
          "text": [
            "Valid: Loss=0.2105, Accuracy=0.9183\n",
            "\n"
          ]
        },
        {
          "output_type": "stream",
          "name": "stderr",
          "text": [
            "Epoch 46: 100%|██████████| 70/70 [00:00<00:00, 90.32batch/s, accuracy=100, loss=0.00368]\n"
          ]
        },
        {
          "output_type": "stream",
          "name": "stdout",
          "text": [
            "Valid: Loss=0.2079, Accuracy=0.92\n",
            "\n"
          ]
        },
        {
          "output_type": "stream",
          "name": "stderr",
          "text": [
            "Epoch 47: 100%|██████████| 70/70 [00:00<00:00, 98.36batch/s, accuracy=100, loss=0.0035]\n"
          ]
        },
        {
          "output_type": "stream",
          "name": "stdout",
          "text": [
            "Valid: Loss=0.2123, Accuracy=0.915\n",
            "\n"
          ]
        },
        {
          "output_type": "stream",
          "name": "stderr",
          "text": [
            "Epoch 48: 100%|██████████| 70/70 [00:00<00:00, 97.04batch/s, accuracy=100, loss=0.00342] \n"
          ]
        },
        {
          "output_type": "stream",
          "name": "stdout",
          "text": [
            "Valid: Loss=0.2067, Accuracy=0.9233\n",
            "\n"
          ]
        },
        {
          "output_type": "stream",
          "name": "stderr",
          "text": [
            "Epoch 49: 100%|██████████| 70/70 [00:00<00:00, 106.63batch/s, accuracy=100, loss=0.00329]\n"
          ]
        },
        {
          "output_type": "stream",
          "name": "stdout",
          "text": [
            "Valid: Loss=0.2086, Accuracy=0.92\n",
            "\n"
          ]
        },
        {
          "output_type": "stream",
          "name": "stderr",
          "text": [
            "Epoch 50: 100%|██████████| 70/70 [00:00<00:00, 91.00batch/s, accuracy=100, loss=0.00322]\n"
          ]
        },
        {
          "output_type": "stream",
          "name": "stdout",
          "text": [
            "Valid: Loss=0.2106, Accuracy=0.9133\n",
            "\n"
          ]
        },
        {
          "output_type": "stream",
          "name": "stderr",
          "text": [
            "Epoch 51: 100%|██████████| 70/70 [00:01<00:00, 54.80batch/s, accuracy=100, loss=0.00316]\n"
          ]
        },
        {
          "output_type": "stream",
          "name": "stdout",
          "text": [
            "Valid: Loss=0.2133, Accuracy=0.9233\n",
            "\n"
          ]
        },
        {
          "output_type": "stream",
          "name": "stderr",
          "text": [
            "Epoch 52: 100%|██████████| 70/70 [00:00<00:00, 78.27batch/s, accuracy=100, loss=0.00303]\n"
          ]
        },
        {
          "output_type": "stream",
          "name": "stdout",
          "text": [
            "Valid: Loss=0.2115, Accuracy=0.92\n",
            "\n"
          ]
        },
        {
          "output_type": "stream",
          "name": "stderr",
          "text": [
            "Epoch 53: 100%|██████████| 70/70 [00:01<00:00, 63.86batch/s, accuracy=100, loss=0.00299]\n"
          ]
        },
        {
          "output_type": "stream",
          "name": "stdout",
          "text": [
            "Valid: Loss=0.2091, Accuracy=0.9233\n",
            "\n"
          ]
        },
        {
          "output_type": "stream",
          "name": "stderr",
          "text": [
            "Epoch 54: 100%|██████████| 70/70 [00:01<00:00, 62.09batch/s, accuracy=100, loss=0.00295]\n"
          ]
        },
        {
          "output_type": "stream",
          "name": "stdout",
          "text": [
            "Valid: Loss=0.2119, Accuracy=0.915\n",
            "\n"
          ]
        },
        {
          "output_type": "stream",
          "name": "stderr",
          "text": [
            "Epoch 55: 100%|██████████| 70/70 [00:00<00:00, 100.20batch/s, accuracy=100, loss=0.00286]\n"
          ]
        },
        {
          "output_type": "stream",
          "name": "stdout",
          "text": [
            "Valid: Loss=0.2169, Accuracy=0.915\n",
            "\n"
          ]
        },
        {
          "output_type": "stream",
          "name": "stderr",
          "text": [
            "Epoch 56: 100%|██████████| 70/70 [00:00<00:00, 87.03batch/s, accuracy=100, loss=0.00279]\n"
          ]
        },
        {
          "output_type": "stream",
          "name": "stdout",
          "text": [
            "Valid: Loss=0.2155, Accuracy=0.9167\n",
            "\n"
          ]
        },
        {
          "output_type": "stream",
          "name": "stderr",
          "text": [
            "Epoch 57: 100%|██████████| 70/70 [00:00<00:00, 96.25batch/s, accuracy=100, loss=0.0027]\n"
          ]
        },
        {
          "output_type": "stream",
          "name": "stdout",
          "text": [
            "Valid: Loss=0.2182, Accuracy=0.9183\n",
            "\n"
          ]
        },
        {
          "output_type": "stream",
          "name": "stderr",
          "text": [
            "Epoch 58: 100%|██████████| 70/70 [00:00<00:00, 92.96batch/s, accuracy=100, loss=0.00264]\n"
          ]
        },
        {
          "output_type": "stream",
          "name": "stdout",
          "text": [
            "Valid: Loss=0.2168, Accuracy=0.9167\n",
            "\n"
          ]
        },
        {
          "output_type": "stream",
          "name": "stderr",
          "text": [
            "Epoch 59: 100%|██████████| 70/70 [00:00<00:00, 104.64batch/s, accuracy=100, loss=0.0026]\n"
          ]
        },
        {
          "output_type": "stream",
          "name": "stdout",
          "text": [
            "Valid: Loss=0.2133, Accuracy=0.9217\n",
            "\n"
          ]
        },
        {
          "output_type": "stream",
          "name": "stderr",
          "text": [
            "Epoch 60: 100%|██████████| 70/70 [00:00<00:00, 81.07batch/s, accuracy=100, loss=0.00253]\n"
          ]
        },
        {
          "output_type": "stream",
          "name": "stdout",
          "text": [
            "Valid: Loss=0.2146, Accuracy=0.92\n",
            "\n"
          ]
        },
        {
          "output_type": "stream",
          "name": "stderr",
          "text": [
            "Epoch 61: 100%|██████████| 70/70 [00:00<00:00, 95.17batch/s, accuracy=100, loss=0.00247] \n"
          ]
        },
        {
          "output_type": "stream",
          "name": "stdout",
          "text": [
            "Valid: Loss=0.215, Accuracy=0.9183\n",
            "\n"
          ]
        },
        {
          "output_type": "stream",
          "name": "stderr",
          "text": [
            "Epoch 62: 100%|██████████| 70/70 [00:00<00:00, 95.76batch/s, accuracy=100, loss=0.00243]\n"
          ]
        },
        {
          "output_type": "stream",
          "name": "stdout",
          "text": [
            "Valid: Loss=0.2139, Accuracy=0.92\n",
            "\n"
          ]
        },
        {
          "output_type": "stream",
          "name": "stderr",
          "text": [
            "Epoch 63: 100%|██████████| 70/70 [00:00<00:00, 95.67batch/s, accuracy=100, loss=0.00242]\n"
          ]
        },
        {
          "output_type": "stream",
          "name": "stdout",
          "text": [
            "Valid: Loss=0.2134, Accuracy=0.9233\n",
            "\n"
          ]
        },
        {
          "output_type": "stream",
          "name": "stderr",
          "text": [
            "Epoch 64: 100%|██████████| 70/70 [00:00<00:00, 100.30batch/s, accuracy=100, loss=0.00236]\n"
          ]
        },
        {
          "output_type": "stream",
          "name": "stdout",
          "text": [
            "Valid: Loss=0.2149, Accuracy=0.9217\n",
            "\n"
          ]
        },
        {
          "output_type": "stream",
          "name": "stderr",
          "text": [
            "Epoch 65: 100%|██████████| 70/70 [00:00<00:00, 93.69batch/s, accuracy=100, loss=0.00229]\n"
          ]
        },
        {
          "output_type": "stream",
          "name": "stdout",
          "text": [
            "Valid: Loss=0.2175, Accuracy=0.9217\n",
            "\n"
          ]
        },
        {
          "output_type": "stream",
          "name": "stderr",
          "text": [
            "Epoch 66: 100%|██████████| 70/70 [00:00<00:00, 92.89batch/s, accuracy=100, loss=0.00224]\n"
          ]
        },
        {
          "output_type": "stream",
          "name": "stdout",
          "text": [
            "Valid: Loss=0.2179, Accuracy=0.9183\n",
            "\n"
          ]
        },
        {
          "output_type": "stream",
          "name": "stderr",
          "text": [
            "Epoch 67: 100%|██████████| 70/70 [00:00<00:00, 86.93batch/s, accuracy=100, loss=0.00223]\n"
          ]
        },
        {
          "output_type": "stream",
          "name": "stdout",
          "text": [
            "Valid: Loss=0.2205, Accuracy=0.915\n",
            "\n"
          ]
        },
        {
          "output_type": "stream",
          "name": "stderr",
          "text": [
            "Epoch 68: 100%|██████████| 70/70 [00:00<00:00, 102.67batch/s, accuracy=100, loss=0.00217]\n"
          ]
        },
        {
          "output_type": "stream",
          "name": "stdout",
          "text": [
            "Valid: Loss=0.2194, Accuracy=0.92\n",
            "\n"
          ]
        },
        {
          "output_type": "stream",
          "name": "stderr",
          "text": [
            "Epoch 69: 100%|██████████| 70/70 [00:00<00:00, 86.31batch/s, accuracy=100, loss=0.00214]\n"
          ]
        },
        {
          "output_type": "stream",
          "name": "stdout",
          "text": [
            "Valid: Loss=0.2184, Accuracy=0.92\n",
            "\n"
          ]
        },
        {
          "output_type": "stream",
          "name": "stderr",
          "text": [
            "Epoch 70: 100%|██████████| 70/70 [00:00<00:00, 111.19batch/s, accuracy=100, loss=0.0021]\n"
          ]
        },
        {
          "output_type": "stream",
          "name": "stdout",
          "text": [
            "Valid: Loss=0.2201, Accuracy=0.9233\n",
            "\n"
          ]
        },
        {
          "output_type": "stream",
          "name": "stderr",
          "text": [
            "Epoch 71: 100%|██████████| 70/70 [00:00<00:00, 77.77batch/s, accuracy=100, loss=0.00206]\n"
          ]
        },
        {
          "output_type": "stream",
          "name": "stdout",
          "text": [
            "Valid: Loss=0.2197, Accuracy=0.9183\n",
            "\n"
          ]
        },
        {
          "output_type": "stream",
          "name": "stderr",
          "text": [
            "Epoch 72: 100%|██████████| 70/70 [00:00<00:00, 91.59batch/s, accuracy=100, loss=0.00205]\n"
          ]
        },
        {
          "output_type": "stream",
          "name": "stdout",
          "text": [
            "Valid: Loss=0.2167, Accuracy=0.9217\n",
            "\n"
          ]
        },
        {
          "output_type": "stream",
          "name": "stderr",
          "text": [
            "Epoch 73: 100%|██████████| 70/70 [00:00<00:00, 96.72batch/s, accuracy=100, loss=0.00202]\n"
          ]
        },
        {
          "output_type": "stream",
          "name": "stdout",
          "text": [
            "Valid: Loss=0.2188, Accuracy=0.9217\n",
            "\n"
          ]
        },
        {
          "output_type": "stream",
          "name": "stderr",
          "text": [
            "Epoch 74: 100%|██████████| 70/70 [00:00<00:00, 97.35batch/s, accuracy=100, loss=0.00196]\n"
          ]
        },
        {
          "output_type": "stream",
          "name": "stdout",
          "text": [
            "Valid: Loss=0.2204, Accuracy=0.92\n",
            "\n"
          ]
        },
        {
          "output_type": "stream",
          "name": "stderr",
          "text": [
            "Epoch 75: 100%|██████████| 70/70 [00:00<00:00, 93.03batch/s, accuracy=100, loss=0.00194] \n"
          ]
        },
        {
          "output_type": "stream",
          "name": "stdout",
          "text": [
            "Valid: Loss=0.2195, Accuracy=0.9233\n",
            "\n"
          ]
        },
        {
          "output_type": "stream",
          "name": "stderr",
          "text": [
            "Epoch 76: 100%|██████████| 70/70 [00:00<00:00, 116.10batch/s, accuracy=100, loss=0.00192]\n"
          ]
        },
        {
          "output_type": "stream",
          "name": "stdout",
          "text": [
            "Valid: Loss=0.2236, Accuracy=0.9183\n",
            "\n"
          ]
        },
        {
          "output_type": "stream",
          "name": "stderr",
          "text": [
            "Epoch 77: 100%|██████████| 70/70 [00:00<00:00, 80.01batch/s, accuracy=100, loss=0.00189]\n"
          ]
        },
        {
          "output_type": "stream",
          "name": "stdout",
          "text": [
            "Valid: Loss=0.2201, Accuracy=0.9233\n",
            "\n"
          ]
        },
        {
          "output_type": "stream",
          "name": "stderr",
          "text": [
            "Epoch 78: 100%|██████████| 70/70 [00:00<00:00, 102.54batch/s, accuracy=100, loss=0.00188]\n"
          ]
        },
        {
          "output_type": "stream",
          "name": "stdout",
          "text": [
            "Valid: Loss=0.2235, Accuracy=0.9183\n",
            "\n"
          ]
        },
        {
          "output_type": "stream",
          "name": "stderr",
          "text": [
            "Epoch 79: 100%|██████████| 70/70 [00:00<00:00, 93.37batch/s, accuracy=100, loss=0.00183]\n"
          ]
        },
        {
          "output_type": "stream",
          "name": "stdout",
          "text": [
            "Valid: Loss=0.2193, Accuracy=0.9233\n",
            "\n"
          ]
        },
        {
          "output_type": "stream",
          "name": "stderr",
          "text": [
            "Epoch 80: 100%|██████████| 70/70 [00:00<00:00, 112.43batch/s, accuracy=100, loss=0.00181]\n"
          ]
        },
        {
          "output_type": "stream",
          "name": "stdout",
          "text": [
            "Valid: Loss=0.2221, Accuracy=0.9217\n",
            "\n"
          ]
        },
        {
          "output_type": "stream",
          "name": "stderr",
          "text": [
            "Epoch 81: 100%|██████████| 70/70 [00:00<00:00, 83.78batch/s, accuracy=100, loss=0.00178]\n"
          ]
        },
        {
          "output_type": "stream",
          "name": "stdout",
          "text": [
            "Valid: Loss=0.2218, Accuracy=0.9183\n",
            "\n"
          ]
        },
        {
          "output_type": "stream",
          "name": "stderr",
          "text": [
            "Epoch 82: 100%|██████████| 70/70 [00:00<00:00, 93.99batch/s, accuracy=100, loss=0.00176]\n"
          ]
        },
        {
          "output_type": "stream",
          "name": "stdout",
          "text": [
            "Valid: Loss=0.2265, Accuracy=0.9133\n",
            "\n"
          ]
        },
        {
          "output_type": "stream",
          "name": "stderr",
          "text": [
            "Epoch 83: 100%|██████████| 70/70 [00:00<00:00, 93.01batch/s, accuracy=100, loss=0.00175]\n"
          ]
        },
        {
          "output_type": "stream",
          "name": "stdout",
          "text": [
            "Valid: Loss=0.2221, Accuracy=0.92\n",
            "\n"
          ]
        },
        {
          "output_type": "stream",
          "name": "stderr",
          "text": [
            "Epoch 84: 100%|██████████| 70/70 [00:00<00:00, 101.94batch/s, accuracy=100, loss=0.00172]\n"
          ]
        },
        {
          "output_type": "stream",
          "name": "stdout",
          "text": [
            "Valid: Loss=0.2219, Accuracy=0.92\n",
            "\n"
          ]
        },
        {
          "output_type": "stream",
          "name": "stderr",
          "text": [
            "Epoch 85: 100%|██████████| 70/70 [00:00<00:00, 96.86batch/s, accuracy=100, loss=0.0017]\n"
          ]
        },
        {
          "output_type": "stream",
          "name": "stdout",
          "text": [
            "Valid: Loss=0.2263, Accuracy=0.9183\n",
            "\n"
          ]
        },
        {
          "output_type": "stream",
          "name": "stderr",
          "text": [
            "Epoch 86: 100%|██████████| 70/70 [00:00<00:00, 95.70batch/s, accuracy=100, loss=0.0017]\n"
          ]
        },
        {
          "output_type": "stream",
          "name": "stdout",
          "text": [
            "Valid: Loss=0.2242, Accuracy=0.915\n",
            "\n"
          ]
        },
        {
          "output_type": "stream",
          "name": "stderr",
          "text": [
            "Epoch 87: 100%|██████████| 70/70 [00:00<00:00, 96.43batch/s, accuracy=100, loss=0.00167]\n"
          ]
        },
        {
          "output_type": "stream",
          "name": "stdout",
          "text": [
            "Valid: Loss=0.2255, Accuracy=0.9167\n",
            "\n"
          ]
        },
        {
          "output_type": "stream",
          "name": "stderr",
          "text": [
            "Epoch 88: 100%|██████████| 70/70 [00:00<00:00, 110.97batch/s, accuracy=100, loss=0.00166]\n"
          ]
        },
        {
          "output_type": "stream",
          "name": "stdout",
          "text": [
            "Valid: Loss=0.2276, Accuracy=0.9133\n",
            "\n"
          ]
        },
        {
          "output_type": "stream",
          "name": "stderr",
          "text": [
            "Epoch 89: 100%|██████████| 70/70 [00:00<00:00, 106.43batch/s, accuracy=100, loss=0.00164]\n"
          ]
        },
        {
          "output_type": "stream",
          "name": "stdout",
          "text": [
            "Valid: Loss=0.2266, Accuracy=0.9183\n",
            "\n"
          ]
        },
        {
          "output_type": "stream",
          "name": "stderr",
          "text": [
            "Epoch 90: 100%|██████████| 70/70 [00:00<00:00, 86.99batch/s, accuracy=100, loss=0.00161]\n"
          ]
        },
        {
          "output_type": "stream",
          "name": "stdout",
          "text": [
            "Valid: Loss=0.2251, Accuracy=0.9217\n",
            "\n"
          ]
        },
        {
          "output_type": "stream",
          "name": "stderr",
          "text": [
            "Epoch 91: 100%|██████████| 70/70 [00:00<00:00, 99.93batch/s, accuracy=100, loss=0.00158]\n"
          ]
        },
        {
          "output_type": "stream",
          "name": "stdout",
          "text": [
            "Valid: Loss=0.2259, Accuracy=0.92\n",
            "\n"
          ]
        },
        {
          "output_type": "stream",
          "name": "stderr",
          "text": [
            "Epoch 92: 100%|██████████| 70/70 [00:00<00:00, 96.67batch/s, accuracy=100, loss=0.00158]\n"
          ]
        },
        {
          "output_type": "stream",
          "name": "stdout",
          "text": [
            "Valid: Loss=0.2242, Accuracy=0.9217\n",
            "\n"
          ]
        },
        {
          "output_type": "stream",
          "name": "stderr",
          "text": [
            "Epoch 93: 100%|██████████| 70/70 [00:00<00:00, 107.48batch/s, accuracy=100, loss=0.00156]\n"
          ]
        },
        {
          "output_type": "stream",
          "name": "stdout",
          "text": [
            "Valid: Loss=0.2253, Accuracy=0.9217\n",
            "\n"
          ]
        },
        {
          "output_type": "stream",
          "name": "stderr",
          "text": [
            "Epoch 94: 100%|██████████| 70/70 [00:00<00:00, 91.89batch/s, accuracy=100, loss=0.00154]\n"
          ]
        },
        {
          "output_type": "stream",
          "name": "stdout",
          "text": [
            "Valid: Loss=0.2281, Accuracy=0.92\n",
            "\n"
          ]
        },
        {
          "output_type": "stream",
          "name": "stderr",
          "text": [
            "Epoch 95: 100%|██████████| 70/70 [00:00<00:00, 125.62batch/s, accuracy=100, loss=0.00155]\n"
          ]
        },
        {
          "output_type": "stream",
          "name": "stdout",
          "text": [
            "Valid: Loss=0.2272, Accuracy=0.9183\n",
            "\n"
          ]
        },
        {
          "output_type": "stream",
          "name": "stderr",
          "text": [
            "Epoch 96: 100%|██████████| 70/70 [00:00<00:00, 92.39batch/s, accuracy=100, loss=0.00152] \n"
          ]
        },
        {
          "output_type": "stream",
          "name": "stdout",
          "text": [
            "Valid: Loss=0.2259, Accuracy=0.9217\n",
            "\n"
          ]
        },
        {
          "output_type": "stream",
          "name": "stderr",
          "text": [
            "Epoch 97: 100%|██████████| 70/70 [00:00<00:00, 101.47batch/s, accuracy=100, loss=0.00151]\n"
          ]
        },
        {
          "output_type": "stream",
          "name": "stdout",
          "text": [
            "Valid: Loss=0.227, Accuracy=0.9217\n",
            "\n"
          ]
        },
        {
          "output_type": "stream",
          "name": "stderr",
          "text": [
            "Epoch 98: 100%|██████████| 70/70 [00:00<00:00, 91.70batch/s, accuracy=100, loss=0.00148]\n"
          ]
        },
        {
          "output_type": "stream",
          "name": "stdout",
          "text": [
            "Valid: Loss=0.226, Accuracy=0.9217\n",
            "\n"
          ]
        },
        {
          "output_type": "stream",
          "name": "stderr",
          "text": [
            "Epoch 99: 100%|██████████| 70/70 [00:00<00:00, 98.54batch/s, accuracy=100, loss=0.00148]\n"
          ]
        },
        {
          "output_type": "stream",
          "name": "stdout",
          "text": [
            "Valid: Loss=0.2285, Accuracy=0.92\n",
            "\n"
          ]
        }
      ]
    },
    {
      "cell_type": "markdown",
      "source": [
        "# **Plot**"
      ],
      "metadata": {
        "id": "bzrFLSkIgNmL"
      }
    },
    {
      "cell_type": "markdown",
      "source": [
        "### Loss"
      ],
      "metadata": {
        "id": "ARmfVUbmf8ug"
      }
    },
    {
      "cell_type": "code",
      "source": [
        "plt.plot(range(num_epochs), loss_train_hist, 'r-', label='Train')\n",
        "plt.plot(range(num_epochs), loss_valid_hist, 'b-', label='Validation')\n",
        "\n",
        "plt.xlabel('Epoch')\n",
        "plt.ylabel('Loss')\n",
        "plt.grid(True)\n",
        "plt.legend()"
      ],
      "metadata": {
        "id": "xFr4fs9Vf7-G",
        "colab": {
          "base_uri": "https://localhost:8080/",
          "height": 466
        },
        "outputId": "b5dfc5f5-85f5-41b6-87c0-2f8f6a5c8bc0"
      },
      "execution_count": null,
      "outputs": [
        {
          "output_type": "execute_result",
          "data": {
            "text/plain": [
              "<matplotlib.legend.Legend at 0x7c4096ae2e60>"
            ]
          },
          "metadata": {},
          "execution_count": 64
        },
        {
          "output_type": "display_data",
          "data": {
            "text/plain": [
              "<Figure size 640x480 with 1 Axes>"
            ],
            "image/png": "[encoded data removed]"
          },
          "metadata": {}
        }
      ]
    },
    {
      "cell_type": "markdown",
      "source": [
        "### Accuracy"
      ],
      "metadata": {
        "id": "9jcu4Kzi76tD"
      }
    },
    {
      "cell_type": "code",
      "source": [
        "plt.plot(range(num_epochs), acc_train_hist, 'r-', label='Train')\n",
        "plt.plot(range(num_epochs), acc_valid_hist, 'b-', label='Validation')\n",
        "\n",
        "plt.xlabel('Epoch')\n",
        "plt.ylabel('Acc')\n",
        "plt.grid(True)\n",
        "plt.legend()"
      ],
      "metadata": {
        "id": "e_820-mcgLJa",
        "colab": {
          "base_uri": "https://localhost:8080/",
          "height": 466
        },
        "outputId": "5e969819-1688-42a0-dd22-f8392b044f30"
      },
      "execution_count": null,
      "outputs": [
        {
          "output_type": "execute_result",
          "data": {
            "text/plain": [
              "<matplotlib.legend.Legend at 0x7c4096b7d000>"
            ]
          },
          "metadata": {},
          "execution_count": 65
        },
        {
          "output_type": "display_data",
          "data": {
            "text/plain": [
              "<Figure size 640x480 with 1 Axes>"
            ],
            "image/png": "[encoded data removed]"
          },
          "metadata": {}
        }
      ]
    },
    {
      "cell_type": "code",
      "source": [
        "state_dict = model.state_dict()"
      ],
      "metadata": {
        "id": "xPBS6x3Jmqc0"
      },
      "execution_count": null,
      "outputs": []
    },
    {
      "cell_type": "code",
      "source": [
        "torch.save(state_dict, 'weights.pt')"
      ],
      "metadata": {
        "id": "y0oYOe6-m7mA"
      },
      "execution_count": null,
      "outputs": []
    },
    {
      "cell_type": "code",
      "source": [
        "wb = torch.load('weights.pt')\n",
        "model.load_state_dict(wb)"
      ],
      "metadata": {
        "colab": {
          "base_uri": "https://localhost:8080/"
        },
        "id": "JwI-d2HBnMV4",
        "outputId": "3c4e20c9-9864-4208-c1a8-260f536f7e4b"
      },
      "execution_count": null,
      "outputs": [
        {
          "output_type": "execute_result",
          "data": {
            "text/plain": [
              "<All keys matched successfully>"
            ]
          },
          "metadata": {},
          "execution_count": 63
        }
      ]
    },
    {
      "cell_type": "markdown",
      "source": [
        "# **Efficient way for set hyperparams 🔨**"
      ],
      "metadata": {
        "id": "9csGqnCvtFAS"
      }
    },
    {
      "cell_type": "code",
      "source": [
        "model = nn.Sequential(nn.Linear(num_feats, h1),\n",
        "                      nn.ReLU(),\n",
        "                      nn.Linear(h1, h2),\n",
        "                      nn.ReLU(),\n",
        "                      nn.Linear(h2, num_class))\n",
        "\n",
        "optimizer = optim.SGD(model.parameters(), lr=0.01, weight_decay=1e-4)"
      ],
      "metadata": {
        "id": "Y5I4Hd9vpszf"
      },
      "execution_count": null,
      "outputs": []
    },
    {
      "cell_type": "markdown",
      "source": [
        "## Step 1: check forward path\n",
        "\n",
        "Calculate loss for one batch"
      ],
      "metadata": {
        "id": "lpJ3wtyctQJH"
      }
    },
    {
      "cell_type": "code",
      "source": [
        "x_batch, y_batch = next(iter(train_loader))\n",
        "yp = model(x_batch)\n",
        "loss_fn(yp, y_batch)"
      ],
      "metadata": {
        "colab": {
          "base_uri": "https://localhost:8080/"
        },
        "id": "IpUgLpfWtMZP",
        "outputId": "c357149e-5e78-4335-dfc2-2d85f0f25d21"
      },
      "execution_count": null,
      "outputs": [
        {
          "output_type": "execute_result",
          "data": {
            "text/plain": [
              "tensor(1.4280, grad_fn=<NllLossBackward0>)"
            ]
          },
          "metadata": {},
          "execution_count": 71
        }
      ]
    },
    {
      "cell_type": "markdown",
      "source": [
        "## Step 2: check backward path\n",
        "\n",
        "Select 5 random batches and overfit the model"
      ],
      "metadata": {
        "id": "BrHQCv7q7LF_"
      }
    },
    {
      "cell_type": "code",
      "source": [
        "mini_train_dataset, _ = random_split(train_dataset, (100, len(train_dataset)-100))\n",
        "mini_loader = DataLoader(mini_train_dataset, 20, shuffle=True)"
      ],
      "metadata": {
        "id": "Jxz5DXoj61mg"
      },
      "execution_count": null,
      "outputs": []
    },
    {
      "cell_type": "code",
      "source": [
        "for epoch in range(500):\n",
        "    model, _, _ = train_one_epoch(model, mini_loader, loss_fn, optimizer, epoch)"
      ],
      "metadata": {
        "id": "PK-P20hI3snf"
      },
      "execution_count": null,
      "outputs": []
    },
    {
      "cell_type": "markdown",
      "source": [
        "## Step 3: select best lr\n",
        "\n",
        "Train all data for one epoch"
      ],
      "metadata": {
        "id": "BLT4w0ZfAhlJ"
      }
    },
    {
      "cell_type": "code",
      "source": [
        "model = nn.Sequential(nn.Linear(num_feats, h1),\n",
        "                      nn.ReLU(),\n",
        "                      nn.Linear(h1, h2),\n",
        "                      nn.ReLU(),\n",
        "                      nn.Linear(h2, num_class))\n",
        "\n",
        "optimizer = optim.SGD(model.parameters(), lr=..., weight_decay=...)"
      ],
      "metadata": {
        "id": "NhsXnB5Mpnx1"
      },
      "execution_count": null,
      "outputs": []
    },
    {
      "cell_type": "code",
      "source": [
        "for lr in [0.1, 0.01, 0.001, 0.0001]:\n",
        "  model = nn.Sequential(nn.Linear(num_feats, h1),\n",
        "                      nn.ReLU(),\n",
        "                      nn.Linear(h1, h2),\n",
        "                      nn.ReLU(),\n",
        "                      nn.Linear(h2, num_class))\n",
        "\n",
        "  optimizer = optim.SGD(model.parameters(), lr=lr, weight_decay=1e-4)\n",
        "  print(f'LR={lr}')\n",
        "  for epoch in range(5):\n",
        "    model, _, _ = train_one_epoch(model, train_loader, loss_fn, optimizer, epoch)\n",
        "  print()"
      ],
      "metadata": {
        "id": "c7tlXlY4_Dwi"
      },
      "execution_count": null,
      "outputs": []
    },
    {
      "cell_type": "markdown",
      "source": [
        "## Step 4: small grid (optional)\n",
        "\n",
        "Create a small grid based on the WD and the best LR\n",
        "\n"
      ],
      "metadata": {
        "id": "uC2GhaXfA8vC"
      }
    },
    {
      "cell_type": "code",
      "source": [
        "model = nn.Sequential(nn.Linear(num_feats, h1),\n",
        "                      nn.ReLU(),\n",
        "                      nn.Linear(h1, h2),\n",
        "                      nn.ReLU(),\n",
        "                      nn.Linear(h2, num_class))\n",
        "\n",
        "optimizer = optim.SGD(model.parameters(), lr=..., weight_decay=...)"
      ],
      "metadata": {
        "id": "XreYvs37pkqw"
      },
      "execution_count": null,
      "outputs": []
    },
    {
      "cell_type": "code",
      "source": [
        "for lr in [0.1, 0.15, 0.2, 0.25, 0.3]:\n",
        "  for wd in [0., 1e-4, 1e-5, 1e-6]:\n",
        "    model = nn.Sequential(nn.Linear(num_feats, h1),\n",
        "                      nn.ReLU(),\n",
        "                      nn.Linear(h1, h2),\n",
        "                      nn.ReLU(),\n",
        "                      nn.Linear(h2, num_class))\n",
        "\n",
        "    optimizer = optim.SGD(model.parameters(), lr=lr, weight_decay=wd)\n",
        "\n",
        "    print(f'LR={lr}, WD={wd}')\n",
        "    for epoch in range(5):\n",
        "      model, _, _ = train_one_epoch(model,\n",
        "                                    train_loader,\n",
        "                                    loss_fn,\n",
        "                                    optimizer,\n",
        "                                    epoch)\n",
        "    print()\n",
        "    # torch.save(...)"
      ],
      "metadata": {
        "id": "yIta-JKgA7-I",
        "colab": {
          "base_uri": "https://localhost:8080/"
        },
        "outputId": "e1e8948d-66cd-48e2-d158-a5fe7413e84a"
      },
      "execution_count": null,
      "outputs": [
        {
          "output_type": "stream",
          "name": "stdout",
          "text": [
            "LR=0.1, WD=0.0\n"
          ]
        },
        {
          "output_type": "stream",
          "name": "stderr",
          "text": [
            "Epoch 0: 100%|██████████| 70/70 [00:00<00:00, 99.25batch/s, accuracy=51.1, loss=1.16] \n",
            "Epoch 1: 100%|██████████| 70/70 [00:00<00:00, 81.76batch/s, accuracy=80.4, loss=0.604]\n",
            "Epoch 2: 100%|██████████| 70/70 [00:00<00:00, 75.04batch/s, accuracy=90.9, loss=0.353]\n",
            "Epoch 3: 100%|██████████| 70/70 [00:00<00:00, 79.16batch/s, accuracy=93.4, loss=0.243]\n",
            "Epoch 4: 100%|██████████| 70/70 [00:00<00:00, 105.63batch/s, accuracy=93.8, loss=0.186]\n"
          ]
        },
        {
          "output_type": "stream",
          "name": "stdout",
          "text": [
            "\n",
            "LR=0.1, WD=0.0001\n"
          ]
        },
        {
          "output_type": "stream",
          "name": "stderr",
          "text": [
            "Epoch 0: 100%|██████████| 70/70 [00:00<00:00, 72.23batch/s, accuracy=41.6, loss=1.28]\n",
            "Epoch 1: 100%|██████████| 70/70 [00:00<00:00, 79.89batch/s, accuracy=74, loss=0.717]\n",
            "Epoch 2: 100%|██████████| 70/70 [00:00<00:00, 84.57batch/s, accuracy=88.4, loss=0.411]\n",
            "Epoch 3: 100%|██████████| 70/70 [00:00<00:00, 111.21batch/s, accuracy=92, loss=0.28]\n",
            "Epoch 4: 100%|██████████| 70/70 [00:00<00:00, 107.88batch/s, accuracy=92.8, loss=0.212]\n"
          ]
        },
        {
          "output_type": "stream",
          "name": "stdout",
          "text": [
            "\n",
            "LR=0.1, WD=1e-05\n"
          ]
        },
        {
          "output_type": "stream",
          "name": "stderr",
          "text": [
            "Epoch 0: 100%|██████████| 70/70 [00:00<00:00, 73.24batch/s, accuracy=40.4, loss=1.32]\n",
            "Epoch 1: 100%|██████████| 70/70 [00:00<00:00, 79.98batch/s, accuracy=71.1, loss=0.784]\n",
            "Epoch 2: 100%|██████████| 70/70 [00:00<00:00, 88.51batch/s, accuracy=88.8, loss=0.418]\n",
            "Epoch 3: 100%|██████████| 70/70 [00:00<00:00, 87.49batch/s, accuracy=92.3, loss=0.276] \n",
            "Epoch 4: 100%|██████████| 70/70 [00:00<00:00, 84.07batch/s, accuracy=93.4, loss=0.208]\n"
          ]
        },
        {
          "output_type": "stream",
          "name": "stdout",
          "text": [
            "\n",
            "LR=0.1, WD=1e-06\n"
          ]
        },
        {
          "output_type": "stream",
          "name": "stderr",
          "text": [
            "Epoch 0: 100%|██████████| 70/70 [00:00<00:00, 91.69batch/s, accuracy=44.2, loss=1.28]\n",
            "Epoch 1: 100%|██████████| 70/70 [00:01<00:00, 67.97batch/s, accuracy=74.9, loss=0.711]\n",
            "Epoch 2: 100%|██████████| 70/70 [00:01<00:00, 65.92batch/s, accuracy=88.5, loss=0.397]\n",
            "Epoch 3: 100%|██████████| 70/70 [00:00<00:00, 71.92batch/s, accuracy=90.6, loss=0.28]\n",
            "Epoch 4: 100%|██████████| 70/70 [00:00<00:00, 91.00batch/s, accuracy=93.9, loss=0.203]\n"
          ]
        },
        {
          "output_type": "stream",
          "name": "stdout",
          "text": [
            "\n",
            "LR=0.15, WD=0.0\n"
          ]
        },
        {
          "output_type": "stream",
          "name": "stderr",
          "text": [
            "Epoch 0: 100%|██████████| 70/70 [00:00<00:00, 98.04batch/s, accuracy=47.1, loss=1.2] \n",
            "Epoch 1: 100%|██████████| 70/70 [00:00<00:00, 84.66batch/s, accuracy=83.1, loss=0.534]\n",
            "Epoch 2: 100%|██████████| 70/70 [00:00<00:00, 84.91batch/s, accuracy=88.4, loss=0.314]\n",
            "Epoch 3: 100%|██████████| 70/70 [00:00<00:00, 70.64batch/s, accuracy=89.8, loss=0.254]\n",
            "Epoch 4: 100%|██████████| 70/70 [00:01<00:00, 68.46batch/s, accuracy=90.7, loss=0.23]\n"
          ]
        },
        {
          "output_type": "stream",
          "name": "stdout",
          "text": [
            "\n",
            "LR=0.15, WD=0.0001\n"
          ]
        },
        {
          "output_type": "stream",
          "name": "stderr",
          "text": [
            "Epoch 0: 100%|██████████| 70/70 [00:00<00:00, 71.89batch/s, accuracy=49.5, loss=1.15]\n",
            "Epoch 1: 100%|██████████| 70/70 [00:01<00:00, 67.38batch/s, accuracy=85.5, loss=0.485]\n",
            "Epoch 2: 100%|██████████| 70/70 [00:00<00:00, 74.02batch/s, accuracy=90.1, loss=0.299]\n",
            "Epoch 3: 100%|██████████| 70/70 [00:01<00:00, 63.54batch/s, accuracy=91.4, loss=0.229]\n",
            "Epoch 4: 100%|██████████| 70/70 [00:01<00:00, 64.15batch/s, accuracy=91.6, loss=0.218]\n"
          ]
        },
        {
          "output_type": "stream",
          "name": "stdout",
          "text": [
            "\n",
            "LR=0.15, WD=1e-05\n"
          ]
        },
        {
          "output_type": "stream",
          "name": "stderr",
          "text": [
            "Epoch 0: 100%|██████████| 70/70 [00:01<00:00, 60.27batch/s, accuracy=50.7, loss=1.13]\n",
            "Epoch 1: 100%|██████████| 70/70 [00:01<00:00, 68.08batch/s, accuracy=84.4, loss=0.474]\n",
            "Epoch 2: 100%|██████████| 70/70 [00:01<00:00, 59.91batch/s, accuracy=87.8, loss=0.309]\n",
            "Epoch 3: 100%|██████████| 70/70 [00:01<00:00, 54.63batch/s, accuracy=89.9, loss=0.245]\n",
            "Epoch 4: 100%|██████████| 70/70 [00:02<00:00, 23.84batch/s, accuracy=92.8, loss=0.19]\n"
          ]
        },
        {
          "output_type": "stream",
          "name": "stdout",
          "text": [
            "\n",
            "LR=0.15, WD=1e-06\n"
          ]
        },
        {
          "output_type": "stream",
          "name": "stderr",
          "text": [
            "Epoch 0: 100%|██████████| 70/70 [00:00<00:00, 93.85batch/s, accuracy=48.2, loss=1.17]\n",
            "Epoch 1: 100%|██████████| 70/70 [00:00<00:00, 93.07batch/s, accuracy=84.3, loss=0.493]\n",
            "Epoch 2: 100%|██████████| 70/70 [00:00<00:00, 91.16batch/s, accuracy=89.9, loss=0.294]\n",
            "Epoch 3: 100%|██████████| 70/70 [00:00<00:00, 89.69batch/s, accuracy=91.9, loss=0.206]\n",
            "Epoch 4: 100%|██████████| 70/70 [00:00<00:00, 93.34batch/s, accuracy=93.4, loss=0.17]\n"
          ]
        },
        {
          "output_type": "stream",
          "name": "stdout",
          "text": [
            "\n",
            "LR=0.2, WD=0.0\n"
          ]
        },
        {
          "output_type": "stream",
          "name": "stderr",
          "text": [
            "Epoch 0: 100%|██████████| 70/70 [00:00<00:00, 95.90batch/s, accuracy=48.8, loss=1.14]\n",
            "Epoch 1: 100%|██████████| 70/70 [00:00<00:00, 93.41batch/s, accuracy=83.9, loss=0.477]\n",
            "Epoch 2: 100%|██████████| 70/70 [00:00<00:00, 93.97batch/s, accuracy=87, loss=0.323]\n",
            "Epoch 3: 100%|██████████| 70/70 [00:00<00:00, 97.70batch/s, accuracy=87.1, loss=0.336]\n",
            "Epoch 4: 100%|██████████| 70/70 [00:00<00:00, 94.02batch/s, accuracy=89.1, loss=0.313]\n"
          ]
        },
        {
          "output_type": "stream",
          "name": "stdout",
          "text": [
            "\n",
            "LR=0.2, WD=0.0001\n"
          ]
        },
        {
          "output_type": "stream",
          "name": "stderr",
          "text": [
            "Epoch 0: 100%|██████████| 70/70 [00:00<00:00, 88.13batch/s, accuracy=52.7, loss=1.05]\n",
            "Epoch 1: 100%|██████████| 70/70 [00:00<00:00, 87.21batch/s, accuracy=84.7, loss=0.429]\n",
            "Epoch 2: 100%|██████████| 70/70 [00:00<00:00, 103.40batch/s, accuracy=89.6, loss=0.284]\n",
            "Epoch 3: 100%|██████████| 70/70 [00:00<00:00, 107.67batch/s, accuracy=89.5, loss=0.247]\n",
            "Epoch 4: 100%|██████████| 70/70 [00:00<00:00, 108.38batch/s, accuracy=90.2, loss=0.259]\n"
          ]
        },
        {
          "output_type": "stream",
          "name": "stdout",
          "text": [
            "\n",
            "LR=0.2, WD=1e-05\n"
          ]
        },
        {
          "output_type": "stream",
          "name": "stderr",
          "text": [
            "Epoch 0: 100%|██████████| 70/70 [00:00<00:00, 102.36batch/s, accuracy=55, loss=1.04]\n",
            "Epoch 1: 100%|██████████| 70/70 [00:00<00:00, 93.20batch/s, accuracy=84.9, loss=0.427]\n",
            "Epoch 2: 100%|██████████| 70/70 [00:00<00:00, 95.69batch/s, accuracy=89.1, loss=0.296] \n",
            "Epoch 3: 100%|██████████| 70/70 [00:00<00:00, 96.44batch/s, accuracy=87.8, loss=0.327]\n",
            "Epoch 4: 100%|██████████| 70/70 [00:00<00:00, 92.83batch/s, accuracy=90.4, loss=0.25]\n"
          ]
        },
        {
          "output_type": "stream",
          "name": "stdout",
          "text": [
            "\n",
            "LR=0.2, WD=1e-06\n"
          ]
        },
        {
          "output_type": "stream",
          "name": "stderr",
          "text": [
            "Epoch 0: 100%|██████████| 70/70 [00:00<00:00, 106.27batch/s, accuracy=49.8, loss=1.1]\n",
            "Epoch 1: 100%|██████████| 70/70 [00:00<00:00, 100.49batch/s, accuracy=83.2, loss=0.459]\n",
            "Epoch 2: 100%|██████████| 70/70 [00:00<00:00, 91.41batch/s, accuracy=86.9, loss=0.332]\n",
            "Epoch 3: 100%|██████████| 70/70 [00:00<00:00, 91.16batch/s, accuracy=87.7, loss=0.309]\n",
            "Epoch 4: 100%|██████████| 70/70 [00:00<00:00, 88.83batch/s, accuracy=87.4, loss=0.306]\n"
          ]
        },
        {
          "output_type": "stream",
          "name": "stdout",
          "text": [
            "\n",
            "LR=0.25, WD=0.0\n"
          ]
        },
        {
          "output_type": "stream",
          "name": "stderr",
          "text": [
            "Epoch 0: 100%|██████████| 70/70 [00:00<00:00, 90.87batch/s, accuracy=59.3, loss=0.959]\n",
            "Epoch 1: 100%|██████████| 70/70 [00:00<00:00, 97.76batch/s, accuracy=82.7, loss=0.433] \n",
            "Epoch 2: 100%|██████████| 70/70 [00:00<00:00, 91.24batch/s, accuracy=85.5, loss=0.355]\n",
            "Epoch 3: 100%|██████████| 70/70 [00:00<00:00, 100.25batch/s, accuracy=86.9, loss=0.333]\n",
            "Epoch 4: 100%|██████████| 70/70 [00:00<00:00, 95.96batch/s, accuracy=89.4, loss=0.276]\n"
          ]
        },
        {
          "output_type": "stream",
          "name": "stdout",
          "text": [
            "\n",
            "LR=0.25, WD=0.0001\n"
          ]
        },
        {
          "output_type": "stream",
          "name": "stderr",
          "text": [
            "Epoch 0: 100%|██████████| 70/70 [00:00<00:00, 90.04batch/s, accuracy=54.2, loss=1.01]\n",
            "Epoch 1: 100%|██████████| 70/70 [00:00<00:00, 101.90batch/s, accuracy=82.2, loss=0.452]\n",
            "Epoch 2: 100%|██████████| 70/70 [00:00<00:00, 89.35batch/s, accuracy=83.6, loss=0.424]\n",
            "Epoch 3: 100%|██████████| 70/70 [00:00<00:00, 97.96batch/s, accuracy=89.4, loss=0.287] \n",
            "Epoch 4: 100%|██████████| 70/70 [00:00<00:00, 94.80batch/s, accuracy=87.4, loss=0.363]\n"
          ]
        },
        {
          "output_type": "stream",
          "name": "stdout",
          "text": [
            "\n",
            "LR=0.25, WD=1e-05\n"
          ]
        },
        {
          "output_type": "stream",
          "name": "stderr",
          "text": [
            "Epoch 0: 100%|██████████| 70/70 [00:00<00:00, 92.92batch/s, accuracy=61.4, loss=0.905]\n",
            "Epoch 1: 100%|██████████| 70/70 [00:00<00:00, 106.49batch/s, accuracy=78.9, loss=0.482]\n",
            "Epoch 2: 100%|██████████| 70/70 [00:00<00:00, 92.06batch/s, accuracy=83.8, loss=0.401]\n",
            "Epoch 3: 100%|██████████| 70/70 [00:00<00:00, 87.94batch/s, accuracy=85.6, loss=0.334]\n",
            "Epoch 4: 100%|██████████| 70/70 [00:00<00:00, 92.70batch/s, accuracy=89.8, loss=0.285]\n"
          ]
        },
        {
          "output_type": "stream",
          "name": "stdout",
          "text": [
            "\n",
            "LR=0.25, WD=1e-06\n"
          ]
        },
        {
          "output_type": "stream",
          "name": "stderr",
          "text": [
            "Epoch 0: 100%|██████████| 70/70 [00:00<00:00, 97.54batch/s, accuracy=52.4, loss=1.05]\n",
            "Epoch 1: 100%|██████████| 70/70 [00:00<00:00, 97.09batch/s, accuracy=84.2, loss=0.422]\n",
            "Epoch 2: 100%|██████████| 70/70 [00:00<00:00, 98.90batch/s, accuracy=85.5, loss=0.399]\n",
            "Epoch 3: 100%|██████████| 70/70 [00:00<00:00, 104.95batch/s, accuracy=82.5, loss=0.456]\n",
            "Epoch 4: 100%|██████████| 70/70 [00:00<00:00, 93.50batch/s, accuracy=90.5, loss=0.243] \n"
          ]
        },
        {
          "output_type": "stream",
          "name": "stdout",
          "text": [
            "\n",
            "LR=0.3, WD=0.0\n"
          ]
        },
        {
          "output_type": "stream",
          "name": "stderr",
          "text": [
            "Epoch 0: 100%|██████████| 70/70 [00:00<00:00, 96.90batch/s, accuracy=65.4, loss=0.842]\n",
            "Epoch 1: 100%|██████████| 70/70 [00:00<00:00, 91.14batch/s, accuracy=78.4, loss=0.522]\n",
            "Epoch 2: 100%|██████████| 70/70 [00:00<00:00, 99.50batch/s, accuracy=83, loss=0.437]\n",
            "Epoch 3: 100%|██████████| 70/70 [00:00<00:00, 101.88batch/s, accuracy=87.8, loss=0.311]\n",
            "Epoch 4: 100%|██████████| 70/70 [00:00<00:00, 91.82batch/s, accuracy=86, loss=0.321]\n"
          ]
        },
        {
          "output_type": "stream",
          "name": "stdout",
          "text": [
            "\n",
            "LR=0.3, WD=0.0001\n"
          ]
        },
        {
          "output_type": "stream",
          "name": "stderr",
          "text": [
            "Epoch 0: 100%|██████████| 70/70 [00:00<00:00, 100.17batch/s, accuracy=57.7, loss=0.918]\n",
            "Epoch 1: 100%|██████████| 70/70 [00:00<00:00, 94.02batch/s, accuracy=80.4, loss=0.508]\n",
            "Epoch 2: 100%|██████████| 70/70 [00:00<00:00, 90.75batch/s, accuracy=83.4, loss=0.402]\n",
            "Epoch 3: 100%|██████████| 70/70 [00:00<00:00, 97.37batch/s, accuracy=88.4, loss=0.287]\n",
            "Epoch 4: 100%|██████████| 70/70 [00:00<00:00, 89.63batch/s, accuracy=85.1, loss=0.398]\n"
          ]
        },
        {
          "output_type": "stream",
          "name": "stdout",
          "text": [
            "\n",
            "LR=0.3, WD=1e-05\n"
          ]
        },
        {
          "output_type": "stream",
          "name": "stderr",
          "text": [
            "Epoch 0: 100%|██████████| 70/70 [00:00<00:00, 92.45batch/s, accuracy=64.4, loss=0.854]\n",
            "Epoch 1: 100%|██████████| 70/70 [00:00<00:00, 93.23batch/s, accuracy=79.7, loss=0.474]\n",
            "Epoch 2: 100%|██████████| 70/70 [00:00<00:00, 90.28batch/s, accuracy=81.5, loss=0.447]\n",
            "Epoch 3: 100%|██████████| 70/70 [00:00<00:00, 86.13batch/s, accuracy=85.4, loss=0.38]\n",
            "Epoch 4: 100%|██████████| 70/70 [00:00<00:00, 94.12batch/s, accuracy=90.4, loss=0.243]\n"
          ]
        },
        {
          "output_type": "stream",
          "name": "stdout",
          "text": [
            "\n",
            "LR=0.3, WD=1e-06\n"
          ]
        },
        {
          "output_type": "stream",
          "name": "stderr",
          "text": [
            "Epoch 0: 100%|██████████| 70/70 [00:00<00:00, 115.49batch/s, accuracy=55.9, loss=0.985]\n",
            "Epoch 1: 100%|██████████| 70/70 [00:00<00:00, 95.93batch/s, accuracy=77.9, loss=0.521]\n",
            "Epoch 2: 100%|██████████| 70/70 [00:00<00:00, 96.08batch/s, accuracy=81.3, loss=0.47]\n",
            "Epoch 3: 100%|██████████| 70/70 [00:00<00:00, 111.30batch/s, accuracy=86.2, loss=0.362]\n",
            "Epoch 4: 100%|██████████| 70/70 [00:00<00:00, 90.13batch/s, accuracy=89.4, loss=0.253]"
          ]
        },
        {
          "output_type": "stream",
          "name": "stdout",
          "text": [
            "\n"
          ]
        },
        {
          "output_type": "stream",
          "name": "stderr",
          "text": [
            "\n"
          ]
        }
      ]
    },
    {
      "cell_type": "markdown",
      "source": [
        "### Pretty table"
      ],
      "metadata": {
        "id": "zxUus1LRNnRj"
      }
    },
    {
      "cell_type": "code",
      "source": [
        "from prettytable import PrettyTable\n",
        "\n",
        "l = [[\"Hassan\", 21, \"LUMS\"], [\"Ali\", 22, \"FAST\"], [\"Ahmed\", 23, \"UET\"]]\n",
        "table = PrettyTable(['Name', 'Age', 'University'])\n",
        "\n",
        "for rec in l:\n",
        "    table.add_row(rec)\n",
        "\n",
        "print(table)"
      ],
      "metadata": {
        "id": "suTQPBD_rrOP",
        "colab": {
          "base_uri": "https://localhost:8080/"
        },
        "outputId": "85bcdfe8-e73c-4562-8ae7-28a46756a894"
      },
      "execution_count": null,
      "outputs": [
        {
          "output_type": "stream",
          "name": "stdout",
          "text": [
            "+--------+-----+------------+\n",
            "|  Name  | Age | University |\n",
            "+--------+-----+------------+\n",
            "| Hassan |  21 |    LUMS    |\n",
            "|  Ali   |  22 |    FAST    |\n",
            "| Ahmed  |  23 |    UET     |\n",
            "+--------+-----+------------+\n"
          ]
        }
      ]
    },
    {
      "cell_type": "markdown",
      "source": [
        "## Step 5: train more epochs"
      ],
      "metadata": {
        "id": "oBW2SLfEEkCp"
      }
    },
    {
      "cell_type": "code",
      "source": [
        "model = nn.Sequential(nn.Linear(num_feats, h1),\n",
        "                      nn.ReLU(),\n",
        "                      nn.Linear(h1, h2),\n",
        "                      nn.ReLU(),\n",
        "                      nn.Linear(h2, num_class))\n",
        "\n",
        "optimizer = optim.SGD(model.parameters(), lr=0.15, weight_decay=1e-5)"
      ],
      "metadata": {
        "id": "vwIDemRWECNm"
      },
      "execution_count": null,
      "outputs": []
    },
    {
      "cell_type": "code",
      "source": [
        "num_epochs = 20"
      ],
      "metadata": {
        "id": "l8v_vvAceS25"
      },
      "execution_count": null,
      "outputs": []
    },
    {
      "cell_type": "code",
      "source": [
        "best_valid_loss = torch.inf"
      ],
      "metadata": {
        "id": "78W26aZT5XHj"
      },
      "execution_count": null,
      "outputs": []
    },
    {
      "cell_type": "code",
      "source": [
        "for epoch in range(num_epochs):\n",
        "  # Train\n",
        "  model, loss_train, acc_train = train_one_epoch(model,\n",
        "                                                 train_loader,\n",
        "                                                 loss_fn,\n",
        "                                                 optimizer,\n",
        "                                                 epoch)\n",
        "  # Validation\n",
        "  loss_valid, acc_valid = evaluate(model,\n",
        "                                     valid_loader,\n",
        "                                     loss_fn)\n",
        "\n",
        "  if loss_valid < best_valid_loss:\n",
        "    torch.save(model, 'model.pt')\n",
        "    best_valid_loss = loss_valid\n",
        "\n",
        "  print(f'Valid: Loss = {loss_valid:.4}, Acc = {acc_valid:.4}\\n')"
      ],
      "metadata": {
        "colab": {
          "base_uri": "https://localhost:8080/"
        },
        "id": "Ns2seuOjHXvi",
        "outputId": "173690fa-25d1-4534-bf48-ca88089f408f"
      },
      "execution_count": null,
      "outputs": [
        {
          "output_type": "stream",
          "name": "stderr",
          "text": [
            "Epoch 0: 100%|██████████| 70/70 [00:00<00:00, 100.64batch/s, accuracy=96, loss=0.106]\n"
          ]
        },
        {
          "output_type": "stream",
          "name": "stdout",
          "text": [
            "Valid: Loss = 0.3054, Acc = 0.8783\n",
            "\n"
          ]
        },
        {
          "output_type": "stream",
          "name": "stderr",
          "text": [
            "Epoch 1: 100%|██████████| 70/70 [00:00<00:00, 88.68batch/s, accuracy=94.4, loss=0.135]\n"
          ]
        },
        {
          "output_type": "stream",
          "name": "stdout",
          "text": [
            "Valid: Loss = 0.345, Acc = 0.8683\n",
            "\n"
          ]
        },
        {
          "output_type": "stream",
          "name": "stderr",
          "text": [
            "Epoch 2: 100%|██████████| 70/70 [00:00<00:00, 89.66batch/s, accuracy=94.3, loss=0.188]\n"
          ]
        },
        {
          "output_type": "stream",
          "name": "stdout",
          "text": [
            "Valid: Loss = 0.4065, Acc = 0.8467\n",
            "\n"
          ]
        },
        {
          "output_type": "stream",
          "name": "stderr",
          "text": [
            "Epoch 3: 100%|██████████| 70/70 [00:00<00:00, 91.78batch/s, accuracy=96.7, loss=0.0725]\n"
          ]
        },
        {
          "output_type": "stream",
          "name": "stdout",
          "text": [
            "Valid: Loss = 0.4162, Acc = 0.8533\n",
            "\n"
          ]
        },
        {
          "output_type": "stream",
          "name": "stderr",
          "text": [
            "Epoch 4: 100%|██████████| 70/70 [00:00<00:00, 86.84batch/s, accuracy=97.1, loss=0.0766]\n"
          ]
        },
        {
          "output_type": "stream",
          "name": "stdout",
          "text": [
            "Valid: Loss = 0.2891, Acc = 0.885\n",
            "\n"
          ]
        },
        {
          "output_type": "stream",
          "name": "stderr",
          "text": [
            "Epoch 5: 100%|██████████| 70/70 [00:00<00:00, 89.06batch/s, accuracy=97.6, loss=0.0652]\n"
          ]
        },
        {
          "output_type": "stream",
          "name": "stdout",
          "text": [
            "Valid: Loss = 0.4412, Acc = 0.8533\n",
            "\n"
          ]
        },
        {
          "output_type": "stream",
          "name": "stderr",
          "text": [
            "Epoch 6: 100%|██████████| 70/70 [00:00<00:00, 86.41batch/s, accuracy=97.1, loss=0.0813]\n"
          ]
        },
        {
          "output_type": "stream",
          "name": "stdout",
          "text": [
            "Valid: Loss = 0.2771, Acc = 0.8983\n",
            "\n"
          ]
        },
        {
          "output_type": "stream",
          "name": "stderr",
          "text": [
            "Epoch 7: 100%|██████████| 70/70 [00:00<00:00, 97.75batch/s, accuracy=98.1, loss=0.0533]\n"
          ]
        },
        {
          "output_type": "stream",
          "name": "stdout",
          "text": [
            "Valid: Loss = 0.2672, Acc = 0.91\n",
            "\n"
          ]
        },
        {
          "output_type": "stream",
          "name": "stderr",
          "text": [
            "Epoch 8: 100%|██████████| 70/70 [00:00<00:00, 90.75batch/s, accuracy=99.6, loss=0.0235]\n"
          ]
        },
        {
          "output_type": "stream",
          "name": "stdout",
          "text": [
            "Valid: Loss = 0.2386, Acc = 0.9117\n",
            "\n"
          ]
        },
        {
          "output_type": "stream",
          "name": "stderr",
          "text": [
            "Epoch 9: 100%|██████████| 70/70 [00:00<00:00, 101.47batch/s, accuracy=98.6, loss=0.0375]\n"
          ]
        },
        {
          "output_type": "stream",
          "name": "stdout",
          "text": [
            "Valid: Loss = 0.253, Acc = 0.9033\n",
            "\n"
          ]
        }
      ]
    }
  ]
}